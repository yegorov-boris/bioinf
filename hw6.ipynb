{
 "cells": [
  {
   "cell_type": "markdown",
   "metadata": {},
   "source": [
    "параметры"
   ]
  },
  {
   "cell_type": "code",
   "execution_count": 44,
   "metadata": {},
   "outputs": [],
   "source": [
    "tests = [\n",
    "    {\n",
    "        'p': [0.5, 0.5],\n",
    "        'a': [[0.8, 0.2], [0.2, 0.8]],\n",
    "        'b': [[0.5, 0.5], [0.1, 0.9]],\n",
    "        'seq_open': 'ОРОРОРООРРРРРРРРРРОООООООО',\n",
    "    },\n",
    "    {\n",
    "        'p': [0.5, 0.5],\n",
    "        'a': [[0.5, 0.5], [0.5, 0.5]],\n",
    "        'b': [[0.5, 0.5], [0.51, 0.49]],\n",
    "        'seq_open': 'ОРОРОРООРРРРРРРРРРОООООООО',\n",
    "    },\n",
    "]"
   ]
  },
  {
   "cell_type": "markdown",
   "metadata": {},
   "source": [
    "Витерби"
   ]
  },
  {
   "cell_type": "code",
   "execution_count": 53,
   "metadata": {},
   "outputs": [],
   "source": [
    "def viterbi(p, a, b, seq):\n",
    "    seq_open = list(map(lambda x: 0 if x == 'О' else 1, seq))\n",
    "    head, *tail = seq_open\n",
    "    n = len(p)\n",
    "    m = len(seq_open)\n",
    "    d_cur = p.copy()\n",
    "    for i in range(n):\n",
    "        d_cur[i] *= b[i][head]\n",
    "    states = []\n",
    "    for t in range(1, m):\n",
    "        d_next = []\n",
    "        s = []\n",
    "        for j in range(n):\n",
    "            i_max = 0\n",
    "            d_max = 0\n",
    "            for i in range(n):\n",
    "                d = d_cur[i]*a[i][j]*b[j][seq_open[t]]\n",
    "                if d > d_max:\n",
    "                    d_max = d\n",
    "                    i_max = i\n",
    "            d_next.append(d_max)\n",
    "            s.append(i_max)\n",
    "        d_cur = d_next.copy()\n",
    "        states.append(s)\n",
    "    i_max_last = 0\n",
    "    for i in range(1, n):\n",
    "        if d_cur[i] > d_cur[i_max_last]:\n",
    "            i_max_last = i\n",
    "    seq_hidden = str(i_max_last+1)\n",
    "\n",
    "    # восстанавливаем последовательность скрытых состояний  \n",
    "    for t in range(m-2, -1, -1):\n",
    "        i_max_last = states[t][i_max_last]\n",
    "        seq_hidden = str(i_max_last+1)+seq_hidden\n",
    "#     print(states)\n",
    "#     print(i_max_last)\n",
    "#     print(''.join(list(map(lambda x: str(x), seq_open))))\n",
    "    return seq_hidden"
   ]
  },
  {
   "cell_type": "markdown",
   "metadata": {},
   "source": [
    "Forward-Backward"
   ]
  },
  {
   "cell_type": "code",
   "execution_count": 120,
   "metadata": {},
   "outputs": [],
   "source": [
    "def forward_backward(p, a, b, seq):\n",
    "    seq_open = list(map(lambda x: 0 if x == 'О' else 1, seq))\n",
    "    n = len(p)\n",
    "    m = len(seq_open)\n",
    "    \n",
    "    # инициализируем альфы\n",
    "    alphas = list(map(\n",
    "        lambda x: [x],\n",
    "        product(p, column(b, seq_open[0]))\n",
    "    ))\n",
    "    \n",
    "    # вычисляем альфы\n",
    "    for t in range(1, m):\n",
    "        for j in range(n):\n",
    "#             print(j, column(alphas, t-1), column(a, j))\n",
    "            alphas[j].append(b[j][seq_open[t]] * dot(column(alphas, t-1), column(a, j)))\n",
    "    \n",
    "    # инициализируем беты\n",
    "    betas = []\n",
    "    for _ in range(n):\n",
    "        betas.append([1])\n",
    "    \n",
    "    # вычисляем беты\n",
    "    for t in range(m-1, 0, -1):\n",
    "        last_betas = column(betas, -1)\n",
    "        for i in range(n):\n",
    "            betas[i].append(dot(\n",
    "                product(last_betas, a[i]),\n",
    "                column(b, seq_open[t])\n",
    "            ))\n",
    "    for i in range(n):\n",
    "        betas[i].reverse()\n",
    "    \n",
    "    # вычисляем нормирующий множитель\n",
    "    prob = sum(column(alphas, -1))\n",
    "    \n",
    "#     print(prob)\n",
    "#     print(betas)\n",
    "    \n",
    "    # вычисляем и выводим результат\n",
    "#     results = []\n",
    "    for i in range(n):\n",
    "        result = [ (a/prob)*b for (a,b) in zip(alphas[i],betas[i]) ]\n",
    "#         results.append(result)\n",
    "        print()\n",
    "        print(' '.join([ str(round(a, 2)) for a in result ]))\n",
    "#     for i in range(m):\n",
    "#         print(sum(column(results, i)))\n",
    "#         print(column(betas, i))\n",
    "        \n",
    "def column(a, j):\n",
    "    col = []\n",
    "    m = len(a)\n",
    "    for i in range(m):\n",
    "        col.append(a[i][j])\n",
    "    return col\n",
    "\n",
    "def dot(x, y):\n",
    "    return sum(a * b for (a, b) in zip(x, y))\n",
    "\n",
    "def product(x, y):\n",
    "    return [a * b for (a, b) in zip(x, y)]"
   ]
  },
  {
   "cell_type": "markdown",
   "metadata": {},
   "source": [
    "результаты"
   ]
  },
  {
   "cell_type": "code",
   "execution_count": 2,
   "metadata": {},
   "outputs": [],
   "source": [
    "import copy\n",
    "\n",
    "def check():\n",
    "    test_number = input()\n",
    "    i = 0\n",
    "    if test_number not in ['1', '2']:\n",
    "        print('wrong test number')\n",
    "    else:\n",
    "        if test_number == '2':\n",
    "            i = 1\n",
    "        t = copy.deepcopy(tests)\n",
    "        print()\n",
    "        print(viterbi(t[i]['p'], t[i]['a'], t[i]['b'], t[i]['seq_open']))\n",
    "        forward_backward(t[i]['p'], t[i]['a'], t[i]['b'], t[i]['seq_open'])"
   ]
  },
  {
   "cell_type": "code",
   "execution_count": 122,
   "metadata": {},
   "outputs": [
    {
     "name": "stdout",
     "output_type": "stream",
     "text": [
      "1\n",
      "\n",
      "11111111222222222211111111\n",
      "\n",
      "0.86 0.77 0.88 0.78 0.89 0.8 0.91 0.86 0.46 0.27 0.19 0.15 0.14 0.14 0.15 0.19 0.28 0.47 0.89 0.96 0.98 0.98 0.98 0.98 0.97 0.94\n",
      "\n",
      "0.14 0.23 0.12 0.22 0.11 0.2 0.09 0.14 0.54 0.73 0.81 0.85 0.86 0.86 0.85 0.81 0.72 0.53 0.11 0.04 0.02 0.02 0.02 0.02 0.03 0.06\n"
     ]
    }
   ],
   "source": [
    "check()"
   ]
  },
  {
   "cell_type": "code",
   "execution_count": 121,
   "metadata": {},
   "outputs": [
    {
     "name": "stdout",
     "output_type": "stream",
     "text": [
      "2\n",
      "\n",
      "21212122111111111122222222\n",
      "\n",
      "0.5 0.51 0.5 0.51 0.5 0.51 0.5 0.5 0.51 0.51 0.51 0.51 0.51 0.51 0.51 0.51 0.51 0.51 0.5 0.5 0.5 0.5 0.5 0.5 0.5 0.5\n",
      "\n",
      "0.5 0.49 0.5 0.49 0.5 0.49 0.5 0.5 0.49 0.49 0.49 0.49 0.49 0.49 0.49 0.49 0.49 0.49 0.5 0.5 0.5 0.5 0.5 0.5 0.5 0.5\n"
     ]
    }
   ],
   "source": [
    "check()"
   ]
  }
 ],
 "metadata": {
  "kernelspec": {
   "display_name": "Python 3",
   "language": "python",
   "name": "python3"
  },
  "language_info": {
   "codemirror_mode": {
    "name": "ipython",
    "version": 3
   },
   "file_extension": ".py",
   "mimetype": "text/x-python",
   "name": "python",
   "nbconvert_exporter": "python",
   "pygments_lexer": "ipython3",
   "version": "3.8.3"
  }
 },
 "nbformat": 4,
 "nbformat_minor": 4
}
