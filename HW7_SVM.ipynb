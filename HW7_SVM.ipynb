{
 "cells": [
  {
   "cell_type": "markdown",
   "metadata": {},
   "source": [
    "# SVM и его ядра\n",
    "__Суммарное количество баллов: 10__"
   ]
  },
  {
   "cell_type": "code",
   "execution_count": 1,
   "metadata": {},
   "outputs": [],
   "source": [
    "import pandas\n",
    "from sklearn.model_selection import train_test_split\n",
    "from sklearn.svm import SVC\n",
    "from sklearn.preprocessing import StandardScaler\n",
    "from sklearn.pipeline import make_pipeline\n",
    "from sklearn.metrics import roc_auc_score"
   ]
  },
  {
   "cell_type": "markdown",
   "metadata": {},
   "source": [
    "### Задание 1 (7 баллов)\n",
    "\n",
    "Примените метод SVM (например, из библиотеки sklearn) для датасета blobs2.\n",
    "\n",
    "Визуализируйте результат (разбиение плоскости и опорные вектора) при разных вариантах ядер (линейное; полиномиальное степеней 2,3,5; RBF)."
   ]
  },
  {
   "cell_type": "code",
   "execution_count": null,
   "metadata": {},
   "outputs": [],
   "source": []
  },
  {
   "cell_type": "markdown",
   "metadata": {},
   "source": [
    "### Задание 2 (3 балла)\n",
    "\n",
    "Примените метод SVM на датасетах cancer и spam, разбитый предварительно на train (80%) и validate (20%). \n",
    "\n",
    "Сравните время работы SVM и Random Forest при близкой точности."
   ]
  },
  {
   "cell_type": "code",
   "execution_count": 3,
   "metadata": {},
   "outputs": [
    {
     "name": "stdout",
     "output_type": "stream",
     "text": [
      "CPU times: user 30 ms, sys: 0 ns, total: 30 ms\n",
      "Wall time: 29.6 ms\n",
      "CPU times: user 4.01 ms, sys: 0 ns, total: 4.01 ms\n",
      "Wall time: 3.9 ms\n",
      "cancer AUC: 0.9995629370629371\n"
     ]
    }
   ],
   "source": [
    "cancer = pandas.read_csv('hw7_data/cancer.csv')\n",
    "X_cancer = cancer.drop(['label'], axis=1)\n",
    "y_cancer = cancer['label'].apply(lambda t: 1 if t == 'M' else 0)\n",
    "spam = pandas.read_csv('hw7_data/spam.csv')\n",
    "X_spam = spam.drop(['label'], axis=1)\n",
    "y_spam = spam['label']\n",
    "X_cancer_train, X_cancer_test, y_cancer_train, y_cancer_test = train_test_split(X_cancer, y_cancer, train_size=0.8, shuffle=False)\n",
    "X_spam_train, X_spam_test, y_spam_train, y_spam_test = train_test_split(X_spam, y_spam, train_size=0.8, shuffle=False)\n",
    "clf = make_pipeline(StandardScaler(), SVC(gamma='auto', probability=True))\n",
    "%time clf.fit(X_cancer_train, y_cancer_train)\n",
    "%time pred_cancer = clf.predict_proba(X_cancer_test)\n",
    "print(\"cancer AUC:\", roc_auc_score(y_cancer_test, pred_cancer[:, 1]))"
   ]
  },
  {
   "cell_type": "code",
   "execution_count": null,
   "metadata": {},
   "outputs": [],
   "source": [
    "%time clf.fit(X_spam_train, y_spam_train)\n",
    "%time pred_spam = clf.predict_proba(X_spam_test)\n",
    "print(\"spam AUC:\", roc_auc_score(y_spam_test, pred_cancer[:, 1]))"
   ]
  }
 ],
 "metadata": {
  "kernelspec": {
   "display_name": "Python 3",
   "language": "python",
   "name": "python3"
  },
  "language_info": {
   "codemirror_mode": {
    "name": "ipython",
    "version": 3
   },
   "file_extension": ".py",
   "mimetype": "text/x-python",
   "name": "python",
   "nbconvert_exporter": "python",
   "pygments_lexer": "ipython3",
   "version": "3.8.5"
  }
 },
 "nbformat": 4,
 "nbformat_minor": 2
}
