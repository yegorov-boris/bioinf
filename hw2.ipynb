{
 "cells": [
  {
   "cell_type": "markdown",
   "metadata": {},
   "source": [
    "local:"
   ]
  },
  {
   "cell_type": "code",
   "execution_count": 50,
   "metadata": {},
   "outputs": [
    {
     "name": "stdout",
     "output_type": "stream",
     "text": [
      "BBBCCCBBBBBBAAAAAAABBBCCCC-\n",
      "BBBCCC-ABBBCCCCAAAAABBBCCCC\n"
     ]
    }
   ],
   "source": [
    "import itertools\n",
    "import numpy as np\n",
    "\n",
    "def matrix(a, b, match_score=1, gap_cost=1):\n",
    "    H = np.zeros((len(a) + 1, len(b) + 1), np.int)\n",
    "\n",
    "    for i, j in itertools.product(range(1, H.shape[0]), range(1, H.shape[1])):\n",
    "        match = H[i - 1, j - 1] + (match_score if a[i - 1] == b[j - 1] else - match_score)\n",
    "        delete = H[i - 1, j] - gap_cost\n",
    "        insert = H[i, j - 1] - gap_cost\n",
    "        H[i, j] = max(match, delete, insert, 0)\n",
    "    return H\n",
    "\n",
    "def traceback(H, b, b_='', old_i=0):\n",
    "    # flip H to get index of **last** occurrence of H.max() with np.argmax()\n",
    "    H_flip = np.flip(np.flip(H, 0), 1)\n",
    "    i_, j_ = np.unravel_index(H_flip.argmax(), H_flip.shape)\n",
    "    i, j = np.subtract(H.shape, (i_ + 1, j_ + 1))  # (i, j) are **last** indexes of H.max()\n",
    "    if H[i, j] == 0:\n",
    "        return b_, i, j\n",
    "    b_ = b[j - 1] + '-' + b_ if old_i - i > 1 else b[j - 1] + b_\n",
    "    return traceback(H[0:i, 0:j], b, b_, i)\n",
    "\n",
    "def local_alignment(a, b):\n",
    "    H = matrix(a, b)\n",
    "    b_, i, j = traceback(H, b)\n",
    "    matches = len(b_.replace(\"-\", \"\"))\n",
    "    b_ = b[:j]+b_+b[j+matches:]\n",
    "    if j > i:\n",
    "        a = a.rjust(j-i+len(a), '-').ljust(len(b_), '-')\n",
    "        b_ = b_.ljust(len(a), '-')\n",
    "    else :\n",
    "        b_ = b_.rjust(i-j+len(b_), '-').ljust(len(a), '-')\n",
    "        a = a.ljust(len(b_), '-')\n",
    "    print(a)\n",
    "    print(b_)\n",
    "\n",
    "local_alignment('BBBCCCBBBBBBAAAAAAABBBCCCC', 'BBBCCCCCCCCCCAAAAAABBBCCCC')"
   ]
  },
  {
   "cell_type": "markdown",
   "metadata": {},
   "source": [
    "global:"
   ]
  },
  {
   "cell_type": "code",
   "execution_count": 49,
   "metadata": {},
   "outputs": [
    {
     "name": "stdout",
     "output_type": "stream",
     "text": [
      "weights:\n",
      "map[AA:1 AB:-1 AC:-1 A_:-1 BA:-1 BB:1 BC:-1 B_:-1 CA:-1 CB:-1 CC:1 C_:-1 _A:-1 _B:-1 _C:-1]\n",
      "aligned sequences:\n",
      "BBBCCCBBBBBBAAAAAAABBBCCCC\n",
      "BBBCCCCCCCCCCAAAAAABBBCCCC\n"
     ]
    }
   ],
   "source": [
    "%%bash\n",
    "./t weights2.csv BBBCCCBBBBBBAAAAAAABBBCCCC BBBCCCCCCCCCCAAAAAABBBCCCC"
   ]
  },
  {
   "cell_type": "markdown",
   "metadata": {},
   "source": [
    "with affine gap:"
   ]
  },
  {
   "cell_type": "code",
   "execution_count": 57,
   "metadata": {},
   "outputs": [
    {
     "name": "stdout",
     "output_type": "stream",
     "text": [
      "-1., -1.:\n",
      "\n",
      "T A C G G G C C _ _ C G C T A C\n",
      "T A _ G C C C T A T C G G T C A\n",
      "\n",
      "\n",
      "-5., -1.:\n",
      "\n",
      "T A _ C G G G C C C G C T A C\n",
      "T A G C C C T A T C G G T C A\n"
     ]
    }
   ],
   "source": [
    "from pprint import pprint\n",
    "\n",
    "global MIN\n",
    "MIN = -float(\"inf\")\n",
    "\n",
    "#return match or mismatch score\n",
    "def _match(s, t, i, j, match, mismatch):\n",
    "    if t[i-1] == s[j-1]:\n",
    "        return match\n",
    "    else:\n",
    "        return mismatch\n",
    "\n",
    "#initializers for matrices\n",
    "def _init_x(i, j):\n",
    "    if i > 0 and j == 0:\n",
    "        return MIN\n",
    "    else:\n",
    "        if j > 0:\n",
    "            return -10 + (-0.5 * j)\n",
    "        else:\n",
    "            return 0\n",
    "\n",
    "def _init_y(i, j):\n",
    "    if j > 0 and i == 0:\n",
    "        return MIN\n",
    "    else:\n",
    "        if i > 0:\n",
    "            return -10 + (-0.5 * i)\n",
    "        else:\n",
    "            return 0\n",
    "\n",
    "def _init_m(i, j):\n",
    "    if j == 0 and i == 0:\n",
    "        return 0\n",
    "    else:\n",
    "        if j == 0 or i == 0:\n",
    "            return MIN\n",
    "        else:\n",
    "            return 0\n",
    "\n",
    "def _format_tuple(inlist, i, j):\n",
    "    return 0\n",
    "\n",
    "def distance_matrix(s, t, match, mismatch, S, E):\n",
    "    dim_i = len(t) + 1\n",
    "    dim_j = len(s) + 1\n",
    "    #abuse list comprehensions to create matrices\n",
    "    X = [[_init_x(i, j) for j in range(0, dim_j)] for i in range(0, dim_i)]\n",
    "    Y = [[_init_y(i, j) for j in range(0, dim_j)] for i in range(0, dim_i)]\n",
    "    M = [[_init_m(i, j) for j in range(0, dim_j)] for i in range(0, dim_i)]\n",
    "\n",
    "    for j in range(1, dim_j):\n",
    "        for i in range(1, dim_i):\n",
    "            X[i][j] = max((S + E + M[i][j-1]), (E + X[i][j-1]), (S + E + Y[i][j-1]))\n",
    "            Y[i][j] = max((S + E + M[i-1][j]), (S + E + X[i-1][j]), (E + Y[i-1][j]))\n",
    "            M[i][j] = max(_match(s, t, i, j, match, mismatch) + M[i-1][j-1], X[i][j], Y[i][j])\n",
    "\n",
    "    return [X, Y, M]\n",
    "\n",
    "def backtrace(s, t, X, Y, M, match, mismatch):\n",
    "    sequ1 = ''\n",
    "    sequ2 = ''\n",
    "    i = len(t)\n",
    "    j = len(s)\n",
    "    while (i>0 or j>0):\n",
    "        if (i>0 and j>0 and M[i][j] == M[i-1][j-1] + _match(s, t, i, j, match, mismatch)):\n",
    "            sequ1 += s[j-1]\n",
    "            sequ2 += t[i-1]\n",
    "            i -= 1; j -= 1\n",
    "        elif (i>0 and M[i][j] == Y[i][j]):\n",
    "            sequ1 += '_'\n",
    "            sequ2 += t[i-1]\n",
    "            i -= 1\n",
    "        elif (j>0 and M[i][j] == X[i][j]):\n",
    "            sequ1 += s[j-1]\n",
    "            sequ2 += '_'\n",
    "            j -= 1\n",
    "\n",
    "    sequ1r = ' '.join([sequ1[j] for j in range(-1, -(len(sequ1)+1), -1)])\n",
    "    sequ2r = ' '.join([sequ2[j] for j in range(-1, -(len(sequ2)+1), -1)])\n",
    "\n",
    "    return [sequ1r, sequ2r]\n",
    "\n",
    "def affine_gap_alignment(seq1, seq2, weight_match, weight_mismatch, open_gap_penalty, continue_gap_penalty):\n",
    "    [X, Y, M] = distance_matrix(seq1, seq2, weight_match, weight_mismatch, open_gap_penalty, continue_gap_penalty)\n",
    "    [str1, str2] = backtrace(seq1, seq2, X, Y, M, weight_match, weight_mismatch)\n",
    "    print(str1)\n",
    "    print(str2)\n",
    "\n",
    "print('-1., -1.:\\n')\n",
    "affine_gap_alignment('TACGGGCCCGCTAC', 'TAGCCCTATCGGTCA', 1., -1., -1., -1.)\n",
    "print('\\n\\n-5., -1.:\\n')\n",
    "affine_gap_alignment('TACGGGCCCGCTAC', 'TAGCCCTATCGGTCA', 1., -1., -5., -1.)"
   ]
  },
  {
   "cell_type": "code",
   "execution_count": null,
   "metadata": {},
   "outputs": [],
   "source": []
  }
 ],
 "metadata": {
  "kernelspec": {
   "display_name": "Python 3",
   "language": "python",
   "name": "python3"
  },
  "language_info": {
   "codemirror_mode": {
    "name": "ipython",
    "version": 3
   },
   "file_extension": ".py",
   "mimetype": "text/x-python",
   "name": "python",
   "nbconvert_exporter": "python",
   "pygments_lexer": "ipython3",
   "version": "3.8.3"
  }
 },
 "nbformat": 4,
 "nbformat_minor": 4
}
