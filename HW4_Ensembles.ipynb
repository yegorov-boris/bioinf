{
 "cells": [
  {
   "cell_type": "markdown",
   "metadata": {},
   "source": [
    "# Случайные леса\n",
    "__Суммарное количество баллов: 10__\n",
    "\n",
    "В этом задании вам предстоит реализовать ансамбль деревьев решений, известный как случайный лес, применить его к публичным данным и сравнить его эффективность с ансамблями из самых популярных библиотек."
   ]
  },
  {
   "cell_type": "code",
   "execution_count": 90,
   "metadata": {},
   "outputs": [],
   "source": [
    "from sklearn.model_selection import train_test_split\n",
    "from sklearn.metrics import accuracy_score, roc_auc_score\n",
    "import numpy as np\n",
    "import pandas\n",
    "import random\n",
    "import matplotlib.pyplot as plt\n",
    "import matplotlib\n",
    "import copy\n",
    "import math\n",
    "import datetime"
   ]
  },
  {
   "cell_type": "markdown",
   "metadata": {},
   "source": [
    "### Задание 1 (3 балла)\n",
    "Реализуем сам Random Forest. Идея очень простая: строим `n` деревьев, а затем берем модальное предсказание. Используйте реализацию дерева из HW3.\n",
    "\n",
    "#### Параметры конструктора\n",
    "`n_estimators` - количество используемых для предсказания деревьев.\n",
    "\n",
    "Остальное - параметры деревьев.\n",
    "\n",
    "#### Методы\n",
    "`fit(X, y)` - строит `n_estimators` деревьев по выборке `X`.\n",
    "\n",
    "`predict(X)` - для каждого элемента выборки `X` возвращает самый частый класс, который предсказывают для него деревья."
   ]
  },
  {
   "cell_type": "code",
   "execution_count": 262,
   "metadata": {},
   "outputs": [],
   "source": [
    "def tree_depth(tree_root):\n",
    "    if isinstance(tree_root, DecisionTreeNode):\n",
    "        return max(tree_depth(tree_root.left), tree_depth(tree_root.right)) + 1\n",
    "    else:\n",
    "        return 1\n",
    "\n",
    "def draw_tree_rec(tree_root, x_left, x_right, y):\n",
    "    x_center = (x_right - x_left) / 2 + x_left\n",
    "    if isinstance(tree_root, DecisionTreeNode):\n",
    "        x_center = (x_right - x_left) / 2 + x_left\n",
    "        x = draw_tree_rec(tree_root.left, x_left, x_center, y - 1)\n",
    "        plt.plot((x_center, x), (y - 0.1, y - 0.9), c=(0, 0, 0))\n",
    "        x = draw_tree_rec(tree_root.right, x_center, x_right, y - 1)\n",
    "        plt.plot((x_center, x), (y - 0.1, y - 0.9), c=(0, 0, 0))\n",
    "        plt.text(x_center, y, \"x[%s] < %f\" % (tree_root.split_dim, tree_root.split_value),\n",
    "                horizontalalignment='center')\n",
    "    else:\n",
    "        s = '%i\\n%i' % (tree_root.ps.get(0, 0), tree_root.ps.get(1, 1))\n",
    "        plt.text(x_center, y, s,\n",
    "                horizontalalignment='center')\n",
    "    return x_center\n",
    "\n",
    "def draw_tree(tree, save_path=None):\n",
    "    td = tree_depth(tree.root)\n",
    "    plt.figure(figsize=(0.33 * 2 ** td, 2 * td))\n",
    "    plt.xlim(-1, 1)\n",
    "    plt.ylim(0.95, td + 0.05)\n",
    "    plt.axis('off')\n",
    "    draw_tree_rec(tree.root, -1, 1, td)\n",
    "    plt.tight_layout()\n",
    "    if save_path is not None:\n",
    "        plt.savefig(save_path)\n",
    "    plt.show()\n",
    "\n",
    "def plot_roc_curve(y_test, p_pred):\n",
    "    positive_samples = sum(1 for y in y_test if y == 0)\n",
    "    tpr = []\n",
    "    fpr = []\n",
    "    for w in np.arange(-0.01, 1.02, 0.01):\n",
    "        y_pred = [(0 if p.get(0, 0) > w else 1) for p in p_pred]\n",
    "        tpr.append(sum(1 for yp, yt in zip(y_pred, y_test) if yp == 0 and yt == 0) / positive_samples)\n",
    "        fpr.append(sum(1 for yp, yt in zip(y_pred, y_test) if yp == 0 and yt != 0) / (len(y_test) - positive_samples))\n",
    "    plt.figure(figsize = (7, 7))\n",
    "    plt.plot(fpr, tpr)\n",
    "    plt.plot([0, 1], [0, 1], linestyle=\"--\")\n",
    "    plt.xlabel(\"False positive rate\")\n",
    "    plt.ylabel(\"True positive rate\")\n",
    "    plt.xlim(-0.01, 1.01)\n",
    "    plt.ylim(-0.01, 1.01)\n",
    "    plt.tight_layout()\n",
    "    plt.show()\n",
    "\n",
    "def gini(x):\n",
    "    vc = x.value_counts(normalize=True, sort=False)\n",
    "    return (vc * (1-vc)).sum()\n",
    "    \n",
    "def entropy(x):\n",
    "    vc = x.value_counts(normalize=True, sort=False)\n",
    "    return -(vc * np.log2(vc)).sum()\n",
    "\n",
    "def gain(left_y, right_y, criterion):\n",
    "    n = left_y.size + right_y.size\n",
    "    return criterion(left_y.append(right_y)) - criterion(left_y)*(left_y.size / n) - criterion(right_y)*(right_y.size / n)\n",
    "\n",
    "class DecisionTreeLeaf:\n",
    "    def __init__(self, y, ps):\n",
    "        self.y = y\n",
    "        self.ps = ps\n",
    "\n",
    "class DecisionTreeNode:\n",
    "    def __init__(self, split_dim, split_value, left, right):\n",
    "        self.split_dim = split_dim\n",
    "        self.split_value = split_value\n",
    "        self.left = left\n",
    "        self.right = right\n",
    "\n",
    "class DecisionTreeClassifier:\n",
    "    def __init__(self, criterion=\"gini\", max_depth=None, min_samples_leaf=1, max_features='auto'):\n",
    "        self.criterion = entropy if criterion == \"entropy\" else gini\n",
    "        self.max_depth = max_depth\n",
    "        self.min_samples_leaf = min_samples_leaf\n",
    "        self.probs = {}\n",
    "        self.max_features = max_features\n",
    "    \n",
    "    def fit(self, xy):\n",
    "        self.root = self.do_fit(xy, 0)\n",
    "    \n",
    "    def do_fit(self, xy, depth):\n",
    "        y = xy['label']\n",
    "        if y.size <= self.min_samples_leaf or depth == self.max_depth or y.unique().size == 1:\n",
    "            ps = y.value_counts(sort=False)\n",
    "            return DecisionTreeLeaf(0 if ps.size == 0 else ps.idxmax(), ps.to_dict())\n",
    "        node_info = self.split(xy)\n",
    "        left = self.do_fit(node_info['l'], depth+1)\n",
    "        right = self.do_fit(node_info['r'], depth+1)\n",
    "        return DecisionTreeNode(node_info['split_dim'], node_info['split_value'], left, right)\n",
    "        \n",
    "    def split(self, xy):\n",
    "        node_info = {'g': None}\n",
    "        features_number = math.ceil(math.sqrt(xy.columns.size))\n",
    "        if self.max_features != 'auto':\n",
    "            features_number = self.max_features\n",
    "        for col in random.sample(xy.columns.to_list(), features_number):\n",
    "            if col == 'label':\n",
    "                continue\n",
    "            m = xy[col].mean()\n",
    "            l = xy[xy[col] < m]\n",
    "            r = xy[xy[col] >= m]\n",
    "            g = gain(l['label'], r['label'], self.criterion)\n",
    "            if node_info['g'] is None or g > node_info['g']:\n",
    "                node_info = {\n",
    "                    'g': g,\n",
    "                    'split_dim': col,\n",
    "                    'split_value': m,\n",
    "                    'l': l,\n",
    "                    'r': r,\n",
    "                }\n",
    "        return node_info\n",
    "    \n",
    "    def predict_proba(self, X):\n",
    "        self.probs = {}\n",
    "        self.do_predict_proba(X, self.root)\n",
    "        return list(map(lambda i: self.probs[i], X.index.to_list()))\n",
    "    \n",
    "    def do_predict_proba(self, X, node):\n",
    "        if isinstance(node, DecisionTreeLeaf):\n",
    "            for i in X.index:\n",
    "                self.probs[i] = node.ps\n",
    "        else:\n",
    "            self.do_predict_proba(X[X[node.split_dim] < node.split_value], node.left)\n",
    "            self.do_predict_proba(X[X[node.split_dim] >= node.split_value], node.right)\n",
    "    \n",
    "    def predict(self, X):\n",
    "        proba = self.predict_proba(X)\n",
    "        return [max(p.keys(), key=lambda k: p[k]) for p in proba]        \n",
    "        \n",
    "class RandomForestClassifier:\n",
    "    def __init__(self, criterion=\"gini\", max_depth=None, min_samples_leaf=1, max_features=\"auto\", n_estimators=10):\n",
    "        self.criterion = criterion\n",
    "        self.max_depth = max_depth\n",
    "        self.min_samples_leaf = min_samples_leaf\n",
    "        self.max_features = max_features\n",
    "        self.n_estimators = n_estimators\n",
    "    \n",
    "    def fit(self, X, y):\n",
    "        self.xy = X.assign(label=y)\n",
    "        self.trees = []\n",
    "        self.oobs = []\n",
    "        for i in range(self.n_estimators):\n",
    "            t = DecisionTreeClassifier(criterion=self.criterion, max_depth=self.max_depth, min_samples_leaf=self.min_samples_leaf, max_features=self.max_features)\n",
    "            sample = self.xy.sample(frac=0.63)\n",
    "            self.oobs.append(self.xy[~self.xy.isin(sample).all(1)])\n",
    "            t.fit(sample)\n",
    "            self.trees.append(t)\n",
    "\n",
    "    def predict_proba(self, X):\n",
    "        df = pandas.DataFrame()\n",
    "        for i in range(len(self.trees)):\n",
    "            df['p_%i' % i] = self.trees[i].predict(X)\n",
    "        return df.apply(lambda row: row.value_counts(normalize=True, sort=False).combine_first(pandas.Series([0, 0])), axis=1)\n",
    "    \n",
    "    def predict(self, X):\n",
    "        return self.predict_proba(X).apply(lambda p: p.idxmax(), axis=1)\n",
    "    \n",
    "    def oob(self, j=None):\n",
    "        n = len(self.trees)\n",
    "        e = 0\n",
    "        for i in range(n):\n",
    "            if j is None:\n",
    "                yp = self.trees[i].predict(self.oobs[i])\n",
    "            else:\n",
    "                col = self.oobs[i][j].sample(frac=1.0)\n",
    "                tmp = self.oobs[i].copy()\n",
    "                tmp[j] = pandas.Series(col.to_list(), index=tmp.index)\n",
    "                yp = self.trees[i].predict(tmp)\n",
    "            e += 1 - np.mean(yp == self.oobs[i]['label'])\n",
    "        return e/n"
   ]
  },
  {
   "cell_type": "markdown",
   "metadata": {},
   "source": [
    "### Задание 3 (2 балла)\n",
    "Оптимизируйте по `AUC` на кроссвалидации (размер валидационной выборки - 20%) параметры своей реализации `Random Forest`: \n",
    "\n",
    "максимальную глубину деревьев из [2, 3, 5, 7, 10], количество деревьев из [5, 10, 20, 30, 50, 100]. \n",
    "\n",
    "Постройте `ROC` кривую (и выведите `AUC` и `accuracy`) для лучшего варианта.\n",
    "\n",
    "Подсказка: можно построить сразу 100 деревьев глубины 10, а потом убирать деревья и\n",
    "глубину."
   ]
  },
  {
   "cell_type": "code",
   "execution_count": 108,
   "metadata": {},
   "outputs": [],
   "source": [
    "def read_cancer_dataset(path_to_csv):\n",
    "    # Возвращает пару из X и y. X - массив векторов. y - соответствующие векторам метки\n",
    "    df = pandas.read_csv(path_to_csv)\n",
    "    return df.drop(['label'], axis=1), df['label'].apply(lambda t: 1 if t == 'M' else 0)\n",
    "\n",
    "def read_spam_dataset(path_to_csv):\n",
    "    # Возвращает пару из X и y. X - массив векторов. y - соответствующие векторам метки\n",
    "    df = pandas.read_csv(path_to_csv)\n",
    "    return df.drop(['label'], axis=1), df['label']\n",
    "\n",
    "def train_test_split(X, y, ratio):\n",
    "    rows = random.sample(X.index.to_list(), round(ratio*len(X.index)))\n",
    "    X_test = X.loc[rows]\n",
    "    y_test = y.loc[rows]\n",
    "    X_train = X.loc[~X.index.isin(rows)]\n",
    "    y_train = y.loc[~y.index.isin(rows)]\n",
    "    # Возвращает X_train, y_train, X_test, y_test\n",
    "    # X_train и X_test - массив векторов - две части массива X, разделенного в состветсви с коэффициентом ratio\n",
    "    # y_train и y_test - соответствующие X_train и X_test метки классов\n",
    "    return X_train, y_train, X_test, y_test\n",
    "\n",
    "def oversampling(X, y):\n",
    "    over = y.value_counts().idxmax()\n",
    "    \n",
    "    y_min = y[y != over]\n",
    "    y_max = y[y == over]\n",
    "    X_min = X.filter(y_min.index,axis = 0)\n",
    "    X_max = X.filter(y_max.index,axis = 0)\n",
    "    \n",
    "    rows = random.choices(X_min.index.to_list(),k=len(y_max.index))\n",
    "    X_over = X_min.loc[rows]\n",
    "    y_over = y_min.loc[rows]\n",
    "    \n",
    "    X_over = pandas.concat([X_over, X_max])\n",
    "    y_over = pandas.concat([y_over, y_max])\n",
    "    \n",
    "    # Возвращает данные, сбалансированные методом oversampling\n",
    "    return X_over, y_over\n",
    "\n",
    "CANCER_DATA_PATH = 'hw2_data/cancer.csv'\n",
    "SPAM_DATA_PATH = 'hw2_data/spam.csv'\n",
    "\n",
    "X_cancer, y_cancer = read_cancer_dataset(CANCER_DATA_PATH)\n",
    "X_spam, y_spam = read_spam_dataset(SPAM_DATA_PATH)\n",
    "\n",
    "X_cancer_train_imb, y_cancer_train_imb, X_cancer_test, y_cancer_test = train_test_split(X_cancer, y_cancer, 0.85)\n",
    "X_cancer_train, y_cancer_train = oversampling(X_cancer_train_imb, y_cancer_train_imb)\n",
    "\n",
    "X_spam_train_imb, y_spam_train_imb, X_spam_test, y_spam_test = train_test_split(X_spam, y_spam, 0.9)\n",
    "X_spam_train, y_spam_train = oversampling(X_spam_train_imb, y_spam_train_imb)"
   ]
  },
  {
   "cell_type": "markdown",
   "metadata": {},
   "source": [
    "#### spam"
   ]
  },
  {
   "cell_type": "code",
   "execution_count": 162,
   "metadata": {
    "scrolled": true
   },
   "outputs": [
    {
     "name": "stdout",
     "output_type": "stream",
     "text": [
      "CPU times: user 7.5 s, sys: 7.78 ms, total: 7.51 s\n",
      "Wall time: 7.49 s\n",
      "AUC: 0.9465049937350217\n"
     ]
    }
   ],
   "source": [
    "forest = RandomForestClassifier(min_samples_leaf=10, max_depth=10, n_estimators=5)\n",
    "%time forest.fit(X_spam_train, y_spam_train)\n",
    "p_pred = forest.predict_proba(X_spam_test)\n",
    "y_pred = p_pred.apply(lambda p: p.idxmax(), axis=1)\n",
    "ppred = p_pred.apply(lambda p: p.to_dict(), axis=1)\n",
    "print('AUC:', roc_auc_score(y_spam_test, p_pred[1]))"
   ]
  },
  {
   "cell_type": "code",
   "execution_count": 150,
   "metadata": {},
   "outputs": [
    {
     "name": "stdout",
     "output_type": "stream",
     "text": [
      "accuracy_score: 0.9328664573774451\n"
     ]
    },
    {
     "data": {
      "image/png": "[encoded data removed]",
      "text/plain": [
       "<Figure size 504x504 with 1 Axes>"
      ]
     },
     "metadata": {
      "needs_background": "light"
     },
     "output_type": "display_data"
    }
   ],
   "source": [
    "print('accuracy_score:', accuracy_score(y_spam_test, y_pred))\n",
    "plot_roc_curve(y_spam_test, ppred)"
   ]
  },
  {
   "cell_type": "markdown",
   "metadata": {},
   "source": [
    "#### cancer"
   ]
  },
  {
   "cell_type": "code",
   "execution_count": 148,
   "metadata": {
    "scrolled": true
   },
   "outputs": [
    {
     "name": "stdout",
     "output_type": "stream",
     "text": [
      "CPU times: user 16.3 s, sys: 4.13 ms, total: 16.3 s\n",
      "Wall time: 16.3 s\n",
      "AUC: 0.9883595311402797\n",
      "accuracy_score: 0.9545454545454546\n"
     ]
    },
    {
     "data": {
      "image/png": "[encoded data removed]",
      "text/plain": [
       "<Figure size 504x504 with 1 Axes>"
      ]
     },
     "metadata": {
      "needs_background": "light"
     },
     "output_type": "display_data"
    }
   ],
   "source": [
    "forest = RandomForestClassifier(min_samples_leaf=10, max_depth=3, n_estimators=100)\n",
    "%time forest.fit(X_cancer_train, y_cancer_train)\n",
    "p_pred = forest.predict_proba(X_cancer_test)\n",
    "y_pred = p_pred.apply(lambda p: p.idxmax(), axis=1)\n",
    "ppred = p_pred.apply(lambda p: p.to_dict(), axis=1)\n",
    "print('AUC:', roc_auc_score(y_cancer_test, p_pred[1]))\n",
    "print('accuracy_score:', accuracy_score(y_cancer_test, y_pred))\n",
    "plot_roc_curve(y_cancer_test, ppred)"
   ]
  },
  {
   "cell_type": "markdown",
   "metadata": {},
   "source": [
    "лучший результат для датасета cancer получен при max_depth=3, n_estimators=100;\n",
    "\n",
    "лучший результат для датасета spam получен при max_depth=10, n_estimators=100;"
   ]
  },
  {
   "cell_type": "markdown",
   "metadata": {},
   "source": [
    "### Задание 4 (3 балла)\n",
    "Часто хочется понимать, насколько большую роль играет тот или иной признак для предсказания класса объекта. Есть различные способы посчитать его важность. Один из простых способов сделать это для Random Forest выглядит так:\n",
    "1. Посчитать out-of-bag ошибку предсказания `err_oob` (https://en.wikipedia.org/wiki/Out-of-bag_error)\n",
    "2. Перемешать значения признака `j` у объектов выборки (у каждого из объектов изменится значение признака `j` на какой-то другой)\n",
    "3. Посчитать out-of-bag ошибку (`err_oob_j`) еще раз.\n",
    "4. Оценкой важности признака `j` для одного дерева будет разность `err_oob_j - err_oob`, важность для всего леса считается как среднее значение важности по деревьям.\n",
    "\n",
    "Реализуйте функцию `feature_importance`, которая принимает на вход Random Forest и возвращает массив, в котором содержится важность для каждого признака."
   ]
  },
  {
   "cell_type": "code",
   "execution_count": 264,
   "metadata": {},
   "outputs": [],
   "source": [
    "def feature_importance(rfc):\n",
    "    err_oob = rfc.oob()\n",
    "    result = []\n",
    "    for j in range(rfc.xy.shape[1]-1):\n",
    "        result.append(rfc.oob(j) - err_oob)\n",
    "    return result\n",
    "\n",
    "def most_important_features(importance, names, k=20):\n",
    "    # Выводит названия k самых важных признаков\n",
    "    idicies = np.argsort(importance)[::-1][:k]\n",
    "    return np.array(names)[idicies]"
   ]
  },
  {
   "cell_type": "markdown",
   "metadata": {},
   "source": [
    "Протестируйте решение на простом синтетическом наборе данных. В результате должна получиться точность `1.0`, наибольшее значение важности должно быть у признака с индексом `4`, признаки с индексами `2` и `3`  должны быть одинаково важны, а остальные признаки - не важны совсем."
   ]
  },
  {
   "cell_type": "code",
   "execution_count": 265,
   "metadata": {},
   "outputs": [
    {
     "name": "stdout",
     "output_type": "stream",
     "text": [
      "Accuracy: 1.0\n",
      "Importance: [0.0, 0.0, 0.22075675675675666, 0.2176216216216216, 0.4000540540540542, 0.0]\n"
     ]
    }
   ],
   "source": [
    "def synthetic_dataset(size):\n",
    "    X = [(np.random.randint(0, 2), np.random.randint(0, 2), i % 6 == 3, \n",
    "          i % 6 == 0, i % 3 == 2, np.random.randint(0, 2)) for i in range(size)]\n",
    "    y = [i % 3 for i in range(size)]\n",
    "    return np.array(X), np.array(y)\n",
    "\n",
    "X_, y_ = synthetic_dataset(1000)\n",
    "X = pandas.DataFrame(X_)\n",
    "y = pandas.Series(y_)\n",
    "rfc = RandomForestClassifier(n_estimators=100)\n",
    "rfc.fit(X, y)\n",
    "print(\"Accuracy:\", np.mean(rfc.predict(X) == y))\n",
    "print(\"Importance:\", feature_importance(rfc))"
   ]
  },
  {
   "cell_type": "markdown",
   "metadata": {},
   "source": [
    "Проверьте, какие признаки важны для датасетов cancer и spam?"
   ]
  },
  {
   "cell_type": "code",
   "execution_count": 252,
   "metadata": {},
   "outputs": [
    {
     "name": "stdout",
     "output_type": "stream",
     "text": [
      "    a  b\n",
      "0  42  3\n",
      "1   2  4\n",
      "   a  b\n",
      "0  1  3\n",
      "1  2  4\n"
     ]
    }
   ],
   "source": [
    "s = pandas.DataFrame({'a':[1,2], 'b':[3,4]})\n",
    "s_copy = s.copy()\n",
    "s_copy['a'] = pandas.Series([42, 2])\n",
    "print(s_copy)\n",
    "print(s)"
   ]
  },
  {
   "cell_type": "markdown",
   "metadata": {},
   "source": [
    "_Ваш ответ_"
   ]
  },
  {
   "cell_type": "markdown",
   "metadata": {},
   "source": [
    "### Задание 5 (2 балла)\n",
    "В качестве альтернативы попробуем библиотечные реализации ансамблей моделей. \n",
    "\n",
    "1. [CatBoost](https://catboost.ai/docs/)\n",
    "2. [XGBoost](https://xgboost.readthedocs.io/en/latest/)\n",
    "3. [LightGBM](https://lightgbm.readthedocs.io/en/latest/)\n"
   ]
  },
  {
   "cell_type": "markdown",
   "metadata": {},
   "source": [
    "Установите необходимые библиотеки. \n",
    "Возможно, потребуется установка дополнительных пакетов"
   ]
  },
  {
   "cell_type": "code",
   "execution_count": null,
   "metadata": {},
   "outputs": [],
   "source": [
    "!pip install lightgbm\n",
    "!pip install catboost\n",
    "!pip install xgboost"
   ]
  },
  {
   "cell_type": "markdown",
   "metadata": {},
   "source": [
    "Также, как и реализованный нами RandomForest, примените модели для наших датасетов.\n",
    "\n",
    "Для стандартного набора параметров у каждой модели нарисуйте `ROC` кривую и выведите `AUC` и `accuracy`.\n",
    "\n",
    "Посчитайте время обучения каждой модели (можно использовать [timeit magic](https://ipython.readthedocs.io/en/stable/interactive/magics.html#magic-timeit)). \n",
    "\n",
    "Сравните метрики качества и скорость обучения моделей. Какие выводы можно сделать?"
   ]
  },
  {
   "cell_type": "code",
   "execution_count": 1,
   "metadata": {},
   "outputs": [],
   "source": [
    "# YOUR_CODE"
   ]
  },
  {
   "cell_type": "markdown",
   "metadata": {},
   "source": [
    "_Ваш ответ_"
   ]
  }
 ],
 "metadata": {
  "kernelspec": {
   "display_name": "Python 3",
   "language": "python",
   "name": "python3"
  },
  "language_info": {
   "codemirror_mode": {
    "name": "ipython",
    "version": 3
   },
   "file_extension": ".py",
   "mimetype": "text/x-python",
   "name": "python",
   "nbconvert_exporter": "python",
   "pygments_lexer": "ipython3",
   "version": "3.8.5"
  }
 },
 "nbformat": 4,
 "nbformat_minor": 2
}
