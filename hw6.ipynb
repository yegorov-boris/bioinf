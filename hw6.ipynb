{
 "cells": [
  {
   "cell_type": "markdown",
   "metadata": {},
   "source": [
    "параметры"
   ]
  },
  {
   "cell_type": "code",
   "execution_count": 233,
   "metadata": {},
   "outputs": [],
   "source": [
    "tests = [\n",
    "    {\n",
    "        'p': [0.5, 0.5],\n",
    "        'a': [[0.8, 0.2], [0.8, 0.2]],\n",
    "        'b': [[0.5, 0.5], [0.1, 0.9]],\n",
    "        'seq_open': 'ОРОРОРООРРРРРРРРРРОООООООО',\n",
    "    },\n",
    "    {\n",
    "        'p': [0.5, 0.5],\n",
    "        'a': [[0.5, 0.5], [0.5, 0.5]],\n",
    "        'b': [[0.5, 0.5], [0.51, 0.49]],\n",
    "        'seq_open': 'ОРОРОРООРРРРРРРРРРОООООООО',\n",
    "    },\n",
    "]"
   ]
  },
  {
   "cell_type": "markdown",
   "metadata": {},
   "source": [
    "Витерби"
   ]
  },
  {
   "cell_type": "code",
   "execution_count": 208,
   "metadata": {},
   "outputs": [],
   "source": [
    "def viterbi(p, a, b, seq):\n",
    "    seq_open = list(map(lambda x: 0 if x == 'О' else 1, seq))\n",
    "    head, *tail = seq_open\n",
    "    n = len(p)\n",
    "    m = len(seq_open)\n",
    "    d_cur = p.copy()\n",
    "    for i in range(n):\n",
    "        d_cur[i] *= b[i][head]\n",
    "    states = []\n",
    "    for t in range(1, m):\n",
    "        d_next = []\n",
    "        s = []\n",
    "        for j in range(n):\n",
    "            i_max = 0\n",
    "            d_max = 0\n",
    "            for i in range(n):\n",
    "                d = d_cur[i]*a[i][j]*b[j][seq_open[t]]\n",
    "                if d > d_max:\n",
    "                    d_max = d\n",
    "                    i_max = i\n",
    "            d_next.append(d_max)\n",
    "            s.append(str(i_max+1))\n",
    "        d_cur = d_next.copy()\n",
    "        states.append(s)\n",
    "    i_max = 0\n",
    "    d_max = d_cur[0]\n",
    "    for i in range(1, n):\n",
    "        if d_cur[i] > d_max:\n",
    "            d_max = d_cur[i]\n",
    "            i_max = i\n",
    "    seq_hidden = ''\n",
    "    for s in states:\n",
    "        seq_hidden += s[i_max]\n",
    "\n",
    "    return seq_hidden+str(i_max+1)"
   ]
  },
  {
   "cell_type": "markdown",
   "metadata": {},
   "source": [
    "Forward-Backward"
   ]
  },
  {
   "cell_type": "code",
   "execution_count": 236,
   "metadata": {},
   "outputs": [],
   "source": [
    "def forward_backward(p, a, b, seq):\n",
    "    seq_open = list(map(lambda x: 0 if x == 'О' else 1, seq))\n",
    "    n = len(p)\n",
    "    m = len(seq_open)\n",
    "    alphas = []\n",
    "    alphas_init = p.copy()\n",
    "    for i in range(n):\n",
    "        alphas_init[i] *= b[i][seq_open[0]]\n",
    "    alphas.append(alphas_init)\n",
    "    for t in range(1, m):\n",
    "        alphas_cur = []\n",
    "        for j in range(n):\n",
    "            alpha = 0\n",
    "            for i in range(n):\n",
    "                alpha += alphas[t-1][i]*a[i][j]*b[j][seq_open[t]]\n",
    "            alphas_cur.append(alpha)\n",
    "        alphas.append(alphas_cur)\n",
    "    betas = []\n",
    "    for _ in range(n):\n",
    "        betas.append([1])\n",
    "    for t in range(m-1, 0, -1):\n",
    "        for i in range(n):\n",
    "            beta = 0\n",
    "            for j in range(n):\n",
    "                beta += betas[j][-1]*a[i][j]*b[j][seq_open[t]]\n",
    "            betas[i].append(beta)\n",
    "    for i in range(n):\n",
    "        betas[i].reverse()\n",
    "    prob = 0\n",
    "    for i in range(n):\n",
    "        prob += alphas[-1][i]\n",
    "#     print(alphas)\n",
    "#     print(betas)\n",
    "#     print(prob)\n",
    "    results = []\n",
    "    for i in range(n):\n",
    "        results.append([])\n",
    "    for t in range(m):\n",
    "        for i in range(n):\n",
    "            results[i].append(str((alphas[t][i]*betas[i][t])/prob))\n",
    "    for i in range(n):\n",
    "        print()\n",
    "        print(' '.join(results[i]))"
   ]
  },
  {
   "cell_type": "markdown",
   "metadata": {},
   "source": [
    "результаты"
   ]
  },
  {
   "cell_type": "code",
   "execution_count": 238,
   "metadata": {},
   "outputs": [],
   "source": [
    "import copy\n",
    "\n",
    "def check():\n",
    "    test_number = input()\n",
    "    i = 0\n",
    "    if test_number not in ['1', '2']:\n",
    "        print('wrong test number')\n",
    "    else:\n",
    "        if test_number == '2':\n",
    "            i = 1\n",
    "        t = copy.deepcopy(tests)\n",
    "        print()\n",
    "        print(viterbi(t[i]['p'], t[i]['a'], t[i]['b'], t[i]['seq_open']))\n",
    "        forward_backward(t[i]['p'], t[i]['a'], t[i]['b'], t[i]['seq_open'])"
   ]
  },
  {
   "cell_type": "code",
   "execution_count": 239,
   "metadata": {},
   "outputs": [
    {
     "name": "stdout",
     "output_type": "stream",
     "text": [
      "1\n",
      "\n",
      "11111111111111111111111111\n",
      "\n",
      "0.08901443107721661 0.08959055122844505 0.12636035056460657 0.11128479228055785 0.15697327293441116 0.13856751789323157 0.19669448999558192 0.20034427035182534 0.16462225040293316 0.1868011938148409 0.21196964468713228 0.24053498938296478 0.2729739321154258 0.30988682972694565 0.35219962174878494 0.4019705477830001 0.46568374435177884 0.5677787845814921 0.8063224107972041 0.829200580106739 0.8527278769200721 0.8769226030404245 0.9018012042307476 0.9273296620235397 0.9523809523809524 0.9523809523809523\n",
      "\n",
      "0.009992282163546478 0.017226766064214895 0.003545948716638752 0.02139357581227903 0.004389675872397752 0.02625441868790011 0.004228410949603817 0.00618494414353572 0.04573923346648346 0.051901069269412174 0.058892086344387036 0.06682099541337705 0.07580180248987309 0.08592537184042182 0.09713628135528621 0.10871890375273804 0.11717354993357137 0.1074626447285871 0.01695682684595958 0.017437951230325443 0.017932732192003885 0.018441667725651253 0.018967528961698066 0.019561602418745282 0.021315192743764175 0.04761904761904762\n"
     ]
    }
   ],
   "source": [
    "check()"
   ]
  },
  {
   "cell_type": "code",
   "execution_count": 240,
   "metadata": {},
   "outputs": [
    {
     "name": "stdout",
     "output_type": "stream",
     "text": [
      "2\n",
      "\n",
      "21212122111111111122222222\n",
      "\n",
      "0.0047233496791236115 0.005850074272545519 0.007021421256200498 0.008695082669016007 0.010431949226582157 0.012905068654668504 0.015438424317861322 0.01895310427599957 0.023631415797798715 0.02888098615807586 0.035296512271135845 0.04313649660853917 0.05271570316444725 0.0644150091702606 0.07868742878947363 0.09604578120503712 0.11698315640054963 0.14166470906774883 0.16886031576046184 0.20528961832336684 0.24940275350592542 0.30241823051942573 0.3648039048494537 0.4337931342394115 0.495049504950495 0.495049504950495\n",
      "\n",
      "0.0030682729408843725 0.0036910920792841764 0.004561725803439631 0.005488188268508997 0.006784314458069539 0.008167468783027453 0.010113611618382312 0.0122325128460803 0.01465385483972042 0.01790921712156559 0.02188784032185435 0.026750597688309816 0.0326945601204603 0.03996208309534493 0.04885428936764239 0.05975532779812068 0.0731874903854239 0.08996194060533948 0.11163580819368082 0.13580821951276603 0.1652822755072756 0.20137533156254364 0.24608092079978627 0.30311075355648487 0.3812126262131163 0.504950495049505\n"
     ]
    }
   ],
   "source": [
    "check()"
   ]
  },
  {
   "cell_type": "code",
   "execution_count": null,
   "metadata": {},
   "outputs": [],
   "source": []
  }
 ],
 "metadata": {
  "kernelspec": {
   "display_name": "Python 3",
   "language": "python",
   "name": "python3"
  },
  "language_info": {
   "codemirror_mode": {
    "name": "ipython",
    "version": 3
   },
   "file_extension": ".py",
   "mimetype": "text/x-python",
   "name": "python",
   "nbconvert_exporter": "python",
   "pygments_lexer": "ipython3",
   "version": "3.8.3"
  }
 },
 "nbformat": 4,
 "nbformat_minor": 4
}
