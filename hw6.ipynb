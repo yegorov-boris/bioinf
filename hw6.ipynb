{
 "cells": [
  {
   "cell_type": "markdown",
   "metadata": {},
   "source": [
    "параметры"
   ]
  },
  {
   "cell_type": "code",
   "execution_count": 44,
   "metadata": {},
   "outputs": [],
   "source": [
    "tests = [\n",
    "    {\n",
    "        'p': [0.5, 0.5],\n",
    "        'a': [[0.8, 0.2], [0.2, 0.8]],\n",
    "        'b': [[0.5, 0.5], [0.1, 0.9]],\n",
    "        'seq_open': 'ОРОРОРООРРРРРРРРРРОООООООО',\n",
    "    },\n",
    "    {\n",
    "        'p': [0.5, 0.5],\n",
    "        'a': [[0.5, 0.5], [0.5, 0.5]],\n",
    "        'b': [[0.5, 0.5], [0.51, 0.49]],\n",
    "        'seq_open': 'ОРОРОРООРРРРРРРРРРОООООООО',\n",
    "    },\n",
    "]"
   ]
  },
  {
   "cell_type": "markdown",
   "metadata": {},
   "source": [
    "Витерби"
   ]
  },
  {
   "cell_type": "code",
   "execution_count": 53,
   "metadata": {},
   "outputs": [],
   "source": [
    "def viterbi(p, a, b, seq):\n",
    "    seq_open = list(map(lambda x: 0 if x == 'О' else 1, seq))\n",
    "    head, *tail = seq_open\n",
    "    n = len(p)\n",
    "    m = len(seq_open)\n",
    "    d_cur = p.copy()\n",
    "    for i in range(n):\n",
    "        d_cur[i] *= b[i][head]\n",
    "    states = []\n",
    "    for t in range(1, m):\n",
    "        d_next = []\n",
    "        s = []\n",
    "        for j in range(n):\n",
    "            i_max = 0\n",
    "            d_max = 0\n",
    "            for i in range(n):\n",
    "                d = d_cur[i]*a[i][j]*b[j][seq_open[t]]\n",
    "                if d > d_max:\n",
    "                    d_max = d\n",
    "                    i_max = i\n",
    "            d_next.append(d_max)\n",
    "            s.append(i_max)\n",
    "        d_cur = d_next.copy()\n",
    "        states.append(s)\n",
    "    i_max_last = 0\n",
    "    for i in range(1, n):\n",
    "        if d_cur[i] > d_cur[i_max_last]:\n",
    "            i_max_last = i\n",
    "    seq_hidden = str(i_max_last+1)\n",
    "\n",
    "    # восстанавливаем последовательность скрытых состояний  \n",
    "    for t in range(m-2, -1, -1):\n",
    "        i_max_last = states[t][i_max_last]\n",
    "        seq_hidden = str(i_max_last+1)+seq_hidden\n",
    "#     print(states)\n",
    "#     print(i_max_last)\n",
    "#     print(''.join(list(map(lambda x: str(x), seq_open))))\n",
    "    return seq_hidden"
   ]
  },
  {
   "cell_type": "markdown",
   "metadata": {},
   "source": [
    "Forward-Backward"
   ]
  },
  {
   "cell_type": "code",
   "execution_count": 50,
   "metadata": {},
   "outputs": [],
   "source": [
    "def forward_backward(p, a, b, seq):\n",
    "    seq_open = list(map(lambda x: 0 if x == 'О' else 1, seq))\n",
    "    n = len(p)\n",
    "    m = len(seq_open)\n",
    "    alphas = []\n",
    "    alphas_init = p.copy()\n",
    "    for i in range(n):\n",
    "        alphas_init[i] *= b[i][seq_open[0]]\n",
    "    alphas.append(alphas_init)\n",
    "    for t in range(1, m):\n",
    "        alphas_cur = []\n",
    "        for j in range(n):\n",
    "            alpha = 0\n",
    "            for i in range(n):\n",
    "                alpha += alphas[t-1][i]*a[i][j]*b[j][seq_open[t]]\n",
    "            alphas_cur.append(alpha)\n",
    "        alphas.append(alphas_cur)\n",
    "    betas = []\n",
    "    for _ in range(n):\n",
    "        betas.append([1])\n",
    "    for t in range(m-1, 0, -1):\n",
    "        for i in range(n):\n",
    "            beta = 0\n",
    "            for j in range(n):\n",
    "                beta += betas[j][-1]*a[i][j]*b[j][seq_open[t]]\n",
    "            betas[i].append(beta)\n",
    "    for i in range(n):\n",
    "        betas[i].reverse()\n",
    "    prob = 0\n",
    "    for i in range(n):\n",
    "        prob += alphas[-1][i]\n",
    "#     print(alphas)\n",
    "#     print(betas)\n",
    "#     print(prob)\n",
    "    results = []\n",
    "    for i in range(n):\n",
    "        results.append([])\n",
    "    for t in range(m):\n",
    "        for i in range(n):\n",
    "            results[i].append(str((alphas[t][i]*betas[i][t])/prob))\n",
    "    for i in range(n):\n",
    "        print()\n",
    "        print(' '.join(results[i]))"
   ]
  },
  {
   "cell_type": "markdown",
   "metadata": {},
   "source": [
    "результаты"
   ]
  },
  {
   "cell_type": "code",
   "execution_count": 2,
   "metadata": {},
   "outputs": [],
   "source": [
    "import copy\n",
    "\n",
    "def check():\n",
    "    test_number = input()\n",
    "    i = 0\n",
    "    if test_number not in ['1', '2']:\n",
    "        print('wrong test number')\n",
    "    else:\n",
    "        if test_number == '2':\n",
    "            i = 1\n",
    "        t = copy.deepcopy(tests)\n",
    "        print()\n",
    "        print(viterbi(t[i]['p'], t[i]['a'], t[i]['b'], t[i]['seq_open']))\n",
    "        forward_backward(t[i]['p'], t[i]['a'], t[i]['b'], t[i]['seq_open'])"
   ]
  },
  {
   "cell_type": "code",
   "execution_count": 52,
   "metadata": {},
   "outputs": [
    {
     "name": "stdout",
     "output_type": "stream",
     "text": [
      "1\n",
      "\n",
      "11111111222222222211111111\n",
      "\n",
      "0.24087379358746808 0.2340879800107745 0.2737360750684785 0.2639282430864752 0.3055696366696417 0.29316632885340455 0.3380271853748625 0.3202990835941842 0.17370143808441862 0.10659356366969079 0.07687600826705111 0.06561507175793106 0.06519148731091888 0.07440693263793226 0.09742459016240625 0.14572197975082435 0.2439408598065487 0.4426050896848212 0.8442655361560182 0.9248711156153782 0.9466086904077708 0.9575586846569769 0.9663534579981261 0.9735965198844854 0.9743863720160683 0.9422168142920906\n",
      "\n",
      "0.019163764066848044 0.03227914843897203 0.018829568480130947 0.034785451147469004 0.02095600029964889 0.039944985430342715 0.025476069809484067 0.05028094787384945 0.19771785775133194 0.26825464099637575 0.3029733041485886 0.3206710997073234 0.32958174106175636 0.33255948163338933 0.32898322489304105 0.3146319512948029 0.2795898032863227 0.20315284156602006 0.043126185583541185 0.013812317080820112 0.008496807756023229 0.007632004359246276 0.007819234372834436 0.009399110518956153 0.017360347855776018 0.057783185707909454\n"
     ]
    }
   ],
   "source": [
    "check()"
   ]
  },
  {
   "cell_type": "code",
   "execution_count": 51,
   "metadata": {},
   "outputs": [
    {
     "name": "stdout",
     "output_type": "stream",
     "text": [
      "2\n",
      "\n",
      "21212122111111111122222222\n",
      "\n",
      "0.0047233496791236115 0.005850074272545519 0.007021421256200498 0.008695082669016007 0.010431949226582157 0.012905068654668504 0.015438424317861322 0.01895310427599957 0.023631415797798715 0.02888098615807586 0.035296512271135845 0.04313649660853917 0.05271570316444725 0.0644150091702606 0.07868742878947363 0.09604578120503712 0.11698315640054963 0.14166470906774883 0.16886031576046184 0.20528961832336684 0.24940275350592542 0.30241823051942573 0.3648039048494537 0.4337931342394115 0.495049504950495 0.495049504950495\n",
      "\n",
      "0.0030682729408843725 0.0036910920792841764 0.004561725803439631 0.005488188268508997 0.006784314458069539 0.008167468783027453 0.010113611618382312 0.0122325128460803 0.01465385483972042 0.01790921712156559 0.02188784032185435 0.026750597688309816 0.0326945601204603 0.03996208309534493 0.04885428936764239 0.05975532779812068 0.0731874903854239 0.08996194060533948 0.11163580819368082 0.13580821951276603 0.1652822755072756 0.20137533156254364 0.24608092079978627 0.30311075355648487 0.3812126262131163 0.504950495049505\n"
     ]
    }
   ],
   "source": [
    "check()"
   ]
  },
  {
   "cell_type": "code",
   "execution_count": null,
   "metadata": {},
   "outputs": [],
   "source": []
  }
 ],
 "metadata": {
  "kernelspec": {
   "display_name": "Python 3",
   "language": "python",
   "name": "python3"
  },
  "language_info": {
   "codemirror_mode": {
    "name": "ipython",
    "version": 3
   },
   "file_extension": ".py",
   "mimetype": "text/x-python",
   "name": "python",
   "nbconvert_exporter": "python",
   "pygments_lexer": "ipython3",
   "version": "3.8.3"
  }
 },
 "nbformat": 4,
 "nbformat_minor": 4
}
