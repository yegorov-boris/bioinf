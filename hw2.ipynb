{
 "cells": [
  {
   "cell_type": "markdown",
   "metadata": {},
   "source": [
    "local:"
   ]
  },
  {
   "cell_type": "code",
   "execution_count": 50,
   "metadata": {},
   "outputs": [
    {
     "name": "stdout",
     "output_type": "stream",
     "text": [
      "BBBCCCBBBBBBAAAAAAABBBCCCC-\n",
      "BBBCCC-ABBBCCCCAAAAABBBCCCC\n"
     ]
    }
   ],
   "source": [
    "import itertools\n",
    "import numpy as np\n",
    "\n",
    "def matrix(a, b, match_score=1, gap_cost=1):\n",
    "    H = np.zeros((len(a) + 1, len(b) + 1), np.int)\n",
    "\n",
    "    for i, j in itertools.product(range(1, H.shape[0]), range(1, H.shape[1])):\n",
    "        match = H[i - 1, j - 1] + (match_score if a[i - 1] == b[j - 1] else - match_score)\n",
    "        delete = H[i - 1, j] - gap_cost\n",
    "        insert = H[i, j - 1] - gap_cost\n",
    "        H[i, j] = max(match, delete, insert, 0)\n",
    "    return H\n",
    "\n",
    "def traceback(H, b, b_='', old_i=0):\n",
    "    # flip H to get index of **last** occurrence of H.max() with np.argmax()\n",
    "    H_flip = np.flip(np.flip(H, 0), 1)\n",
    "    i_, j_ = np.unravel_index(H_flip.argmax(), H_flip.shape)\n",
    "    i, j = np.subtract(H.shape, (i_ + 1, j_ + 1))  # (i, j) are **last** indexes of H.max()\n",
    "    if H[i, j] == 0:\n",
    "        return b_, i, j\n",
    "    b_ = b[j - 1] + '-' + b_ if old_i - i > 1 else b[j - 1] + b_\n",
    "    return traceback(H[0:i, 0:j], b, b_, i)\n",
    "\n",
    "def local_alignment(a, b):\n",
    "    H = matrix(a, b)\n",
    "    b_, i, j = traceback(H, b)\n",
    "    matches = len(b_.replace(\"-\", \"\"))\n",
    "    b_ = b[:j]+b_+b[j+matches:]\n",
    "    if j > i:\n",
    "        a = a.rjust(j-i+len(a), '-').ljust(len(b_), '-')\n",
    "        b_ = b_.ljust(len(a), '-')\n",
    "    else :\n",
    "        b_ = b_.rjust(i-j+len(b_), '-').ljust(len(a), '-')\n",
    "        a = a.ljust(len(b_), '-')\n",
    "    print(a)\n",
    "    print(b_)\n",
    "\n",
    "local_alignment('BBBCCCBBBBBBAAAAAAABBBCCCC', 'BBBCCCCCCCCCCAAAAAABBBCCCC')"
   ]
  },
  {
   "cell_type": "markdown",
   "metadata": {},
   "source": [
    "global:"
   ]
  },
  {
   "cell_type": "code",
   "execution_count": 49,
   "metadata": {},
   "outputs": [
    {
     "name": "stdout",
     "output_type": "stream",
     "text": [
      "weights:\n",
      "map[AA:1 AB:-1 AC:-1 A_:-1 BA:-1 BB:1 BC:-1 B_:-1 CA:-1 CB:-1 CC:1 C_:-1 _A:-1 _B:-1 _C:-1]\n",
      "aligned sequences:\n",
      "BBBCCCBBBBBBAAAAAAABBBCCCC\n",
      "BBBCCCCCCCCCCAAAAAABBBCCCC\n"
     ]
    }
   ],
   "source": [
    "%%bash\n",
    "./t weights2.csv BBBCCCBBBBBBAAAAAAABBBCCCC BBBCCCCCCCCCCAAAAAABBBCCCC"
   ]
  },
  {
   "cell_type": "code",
   "execution_count": null,
   "metadata": {},
   "outputs": [],
   "source": []
  }
 ],
 "metadata": {
  "kernelspec": {
   "display_name": "Python 3",
   "language": "python",
   "name": "python3"
  },
  "language_info": {
   "codemirror_mode": {
    "name": "ipython",
    "version": 3
   },
   "file_extension": ".py",
   "mimetype": "text/x-python",
   "name": "python",
   "nbconvert_exporter": "python",
   "pygments_lexer": "ipython3",
   "version": "3.8.3"
  }
 },
 "nbformat": 4,
 "nbformat_minor": 4
}
