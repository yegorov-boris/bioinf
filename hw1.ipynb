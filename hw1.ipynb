{
 "cells": [
  {
   "cell_type": "code",
   "execution_count": 1,
   "metadata": {},
   "outputs": [
    {
     "name": "stdout",
     "output_type": "stream",
     "text": [
      "weights:\n",
      "map[AA:5 AB:2 AC:1 A_:-1 BA:2 BB:5 BC:1 B_:-1 CA:1 CB:1 CC:5 C_:-1 _A:-1 _B:-1 _C:-1]\n",
      "aligned sequences:\n",
      "ABCAA\n",
      "BACBB\n"
     ]
    }
   ],
   "source": [
    "%%bash\n",
    "./t weights0.csv ABCAA BACBB"
   ]
  },
  {
   "cell_type": "code",
   "execution_count": 2,
   "metadata": {},
   "outputs": [
    {
     "name": "stdout",
     "output_type": "stream",
     "text": [
      "weights:\n",
      "map[AA:5 AB:2 AC:1 A_:-1 BA:2 BB:5 BC:1 B_:-1 CA:1 CB:1 CC:-5 C_:-1 _A:-1 _B:-1 _C:-1]\n",
      "aligned sequences:\n",
      "_ABCAA\n",
      "BAC_BB\n"
     ]
    }
   ],
   "source": [
    "%%bash\n",
    "./t weights1.csv ABCAA BACBB"
   ]
  },
  {
   "cell_type": "code",
   "execution_count": null,
   "metadata": {},
   "outputs": [],
   "source": []
  }
 ],
 "metadata": {
  "kernelspec": {
   "display_name": "Python 3",
   "language": "python",
   "name": "python3"
  },
  "language_info": {
   "codemirror_mode": {
    "name": "ipython",
    "version": 3
   },
   "file_extension": ".py",
   "mimetype": "text/x-python",
   "name": "python",
   "nbconvert_exporter": "python",
   "pygments_lexer": "ipython3",
   "version": "3.8.3"
  }
 },
 "nbformat": 4,
 "nbformat_minor": 4
}
