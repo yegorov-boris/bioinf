{
 "cells": [
  {
   "cell_type": "markdown",
   "metadata": {},
   "source": [
    "# Случайные леса\n",
    "__Суммарное количество баллов: 10__\n",
    "\n",
    "В этом задании вам предстоит реализовать ансамбль деревьев решений, известный как случайный лес, применить его к публичным данным и сравнить его эффективность с ансамблями из самых популярных библиотек."
   ]
  },
  {
   "cell_type": "code",
   "execution_count": 307,
   "metadata": {},
   "outputs": [],
   "source": [
    "from sklearn.model_selection import train_test_split\n",
    "from sklearn.metrics import accuracy_score, roc_auc_score\n",
    "from sklearn import metrics\n",
    "import numpy as np\n",
    "import pandas\n",
    "import random\n",
    "import matplotlib.pyplot as plt\n",
    "import matplotlib\n",
    "import copy\n",
    "import math\n",
    "import datetime"
   ]
  },
  {
   "cell_type": "markdown",
   "metadata": {},
   "source": [
    "### Задание 1 (3 балла)\n",
    "Реализуем сам Random Forest. Идея очень простая: строим `n` деревьев, а затем берем модальное предсказание. Используйте реализацию дерева из HW3.\n",
    "\n",
    "#### Параметры конструктора\n",
    "`n_estimators` - количество используемых для предсказания деревьев.\n",
    "\n",
    "Остальное - параметры деревьев.\n",
    "\n",
    "#### Методы\n",
    "`fit(X, y)` - строит `n_estimators` деревьев по выборке `X`.\n",
    "\n",
    "`predict(X)` - для каждого элемента выборки `X` возвращает самый частый класс, который предсказывают для него деревья."
   ]
  },
  {
   "cell_type": "code",
   "execution_count": 294,
   "metadata": {},
   "outputs": [],
   "source": [
    "def tree_depth(tree_root):\n",
    "    if isinstance(tree_root, DecisionTreeNode):\n",
    "        return max(tree_depth(tree_root.left), tree_depth(tree_root.right)) + 1\n",
    "    else:\n",
    "        return 1\n",
    "\n",
    "def draw_tree_rec(tree_root, x_left, x_right, y):\n",
    "    x_center = (x_right - x_left) / 2 + x_left\n",
    "    if isinstance(tree_root, DecisionTreeNode):\n",
    "        x_center = (x_right - x_left) / 2 + x_left\n",
    "        x = draw_tree_rec(tree_root.left, x_left, x_center, y - 1)\n",
    "        plt.plot((x_center, x), (y - 0.1, y - 0.9), c=(0, 0, 0))\n",
    "        x = draw_tree_rec(tree_root.right, x_center, x_right, y - 1)\n",
    "        plt.plot((x_center, x), (y - 0.1, y - 0.9), c=(0, 0, 0))\n",
    "        plt.text(x_center, y, \"x[%s] < %f\" % (tree_root.split_dim, tree_root.split_value),\n",
    "                horizontalalignment='center')\n",
    "    else:\n",
    "        s = '%i\\n%i' % (tree_root.ps.get(0, 0), tree_root.ps.get(1, 1))\n",
    "        plt.text(x_center, y, s,\n",
    "                horizontalalignment='center')\n",
    "    return x_center\n",
    "\n",
    "def draw_tree(tree, save_path=None):\n",
    "    td = tree_depth(tree.root)\n",
    "    plt.figure(figsize=(0.33 * 2 ** td, 2 * td))\n",
    "    plt.xlim(-1, 1)\n",
    "    plt.ylim(0.95, td + 0.05)\n",
    "    plt.axis('off')\n",
    "    draw_tree_rec(tree.root, -1, 1, td)\n",
    "    plt.tight_layout()\n",
    "    if save_path is not None:\n",
    "        plt.savefig(save_path)\n",
    "    plt.show()\n",
    "\n",
    "def plot_roc_curve(y_test, p_pred):\n",
    "    positive_samples = sum(1 for y in y_test if y == 0)\n",
    "    tpr = []\n",
    "    fpr = []\n",
    "    for w in np.arange(-0.01, 1.02, 0.01):\n",
    "        y_pred = [(0 if p.get(0, 0) > w else 1) for p in p_pred]\n",
    "        tpr.append(sum(1 for yp, yt in zip(y_pred, y_test) if yp == 0 and yt == 0) / positive_samples)\n",
    "        fpr.append(sum(1 for yp, yt in zip(y_pred, y_test) if yp == 0 and yt != 0) / (len(y_test) - positive_samples))\n",
    "    plt.figure(figsize = (7, 7))\n",
    "    plt.plot(fpr, tpr)\n",
    "    plt.plot([0, 1], [0, 1], linestyle=\"--\")\n",
    "    plt.xlabel(\"False positive rate\")\n",
    "    plt.ylabel(\"True positive rate\")\n",
    "    plt.xlim(-0.01, 1.01)\n",
    "    plt.ylim(-0.01, 1.01)\n",
    "    plt.tight_layout()\n",
    "    plt.show()\n",
    "\n",
    "def gini(x):\n",
    "    vc = x.value_counts(normalize=True, sort=False)\n",
    "    return (vc * (1-vc)).sum()\n",
    "    \n",
    "def entropy(x):\n",
    "    vc = x.value_counts(normalize=True, sort=False)\n",
    "    return -(vc * np.log2(vc)).sum()\n",
    "\n",
    "def gain(left_y, right_y, criterion):\n",
    "    n = left_y.size + right_y.size\n",
    "    return criterion(left_y.append(right_y)) - criterion(left_y)*(left_y.size / n) - criterion(right_y)*(right_y.size / n)\n",
    "\n",
    "class DecisionTreeLeaf:\n",
    "    def __init__(self, y, ps):\n",
    "        self.y = y\n",
    "        self.ps = ps\n",
    "\n",
    "class DecisionTreeNode:\n",
    "    def __init__(self, split_dim, split_value, left, right):\n",
    "        self.split_dim = split_dim\n",
    "        self.split_value = split_value\n",
    "        self.left = left\n",
    "        self.right = right\n",
    "\n",
    "class DecisionTreeClassifier:\n",
    "    def __init__(self, criterion=\"gini\", max_depth=None, min_samples_leaf=1, max_features='auto'):\n",
    "        self.criterion = entropy if criterion == \"entropy\" else gini\n",
    "        self.max_depth = max_depth\n",
    "        self.min_samples_leaf = min_samples_leaf\n",
    "        self.probs = {}\n",
    "        self.max_features = max_features\n",
    "    \n",
    "    def fit(self, xy):\n",
    "        self.root = self.do_fit(xy, 0)\n",
    "    \n",
    "    def do_fit(self, xy, depth):\n",
    "        y = xy['label']\n",
    "        if y.size <= self.min_samples_leaf or depth == self.max_depth or y.unique().size == 1:\n",
    "            ps = y.value_counts(sort=False)\n",
    "            return DecisionTreeLeaf(0 if ps.size == 0 else ps.idxmax(), ps.to_dict())\n",
    "        node_info = self.split(xy)\n",
    "        left = self.do_fit(node_info['l'], depth+1)\n",
    "        right = self.do_fit(node_info['r'], depth+1)\n",
    "        return DecisionTreeNode(node_info['split_dim'], node_info['split_value'], left, right)\n",
    "        \n",
    "    def split(self, xy):\n",
    "        node_info = {'g': None}\n",
    "        features_number = math.ceil(math.sqrt(xy.columns.size))\n",
    "        if self.max_features != 'auto':\n",
    "            features_number = self.max_features\n",
    "        for col in random.sample(xy.columns.to_list(), features_number):\n",
    "            if col == 'label':\n",
    "                continue\n",
    "            m = xy[col].mean()\n",
    "            l = xy[xy[col] < m]\n",
    "            r = xy[xy[col] >= m]\n",
    "            g = gain(l['label'], r['label'], self.criterion)\n",
    "            if node_info['g'] is None or g > node_info['g']:\n",
    "                node_info = {\n",
    "                    'g': g,\n",
    "                    'split_dim': col,\n",
    "                    'split_value': m,\n",
    "                    'l': l,\n",
    "                    'r': r,\n",
    "                }\n",
    "        return node_info\n",
    "    \n",
    "    def predict_proba(self, X):\n",
    "        self.probs = {}\n",
    "        self.do_predict_proba(X, self.root)\n",
    "        return list(map(lambda i: self.probs[i], X.index.to_list()))\n",
    "    \n",
    "    def do_predict_proba(self, X, node):\n",
    "        if isinstance(node, DecisionTreeLeaf):\n",
    "            for i in X.index:\n",
    "                self.probs[i] = node.ps\n",
    "        else:\n",
    "            self.do_predict_proba(X[X[node.split_dim] < node.split_value], node.left)\n",
    "            self.do_predict_proba(X[X[node.split_dim] >= node.split_value], node.right)\n",
    "    \n",
    "    def predict(self, X):\n",
    "        proba = self.predict_proba(X)\n",
    "        return [max(p.keys(), key=lambda k: p[k]) for p in proba]        \n",
    "        \n",
    "class RandomForestClassifier:\n",
    "    def __init__(self, criterion=\"gini\", max_depth=None, min_samples_leaf=1, max_features=\"auto\", n_estimators=10):\n",
    "        self.criterion = criterion\n",
    "        self.max_depth = max_depth\n",
    "        self.min_samples_leaf = min_samples_leaf\n",
    "        self.max_features = max_features\n",
    "        self.n_estimators = n_estimators\n",
    "    \n",
    "    def fit(self, X, y):\n",
    "        self.xy = X.assign(label=y)\n",
    "        self.trees = []\n",
    "        self.oobs = []\n",
    "        for i in range(self.n_estimators):\n",
    "            t = DecisionTreeClassifier(criterion=self.criterion, max_depth=self.max_depth, min_samples_leaf=self.min_samples_leaf, max_features=self.max_features)\n",
    "            sample = self.xy.sample(frac=0.63, replace=False)\n",
    "            self.oobs.append(self.xy.drop(labels=sample.index.unique().to_list()))\n",
    "            t.fit(sample)\n",
    "            self.trees.append(t)\n",
    "\n",
    "    def predict_proba(self, X):\n",
    "        df = pandas.DataFrame()\n",
    "        for i in range(len(self.trees)):\n",
    "            df['p_%i' % i] = self.trees[i].predict(X)\n",
    "        return df.apply(lambda row: row.value_counts(normalize=True, sort=False).combine_first(pandas.Series([0, 0])), axis=1)\n",
    "    \n",
    "    def predict(self, X):\n",
    "        return self.predict_proba(X).apply(lambda p: p.idxmax(), axis=1)\n",
    "    \n",
    "    def oob(self, j=None):\n",
    "        n = len(self.trees)\n",
    "        e = 0\n",
    "        for i in range(n):\n",
    "            if j is None:\n",
    "                yp = self.trees[i].predict(self.oobs[i])\n",
    "            else:\n",
    "                col = self.oobs[i][j].sample(frac=1.0, replace=False)\n",
    "                tmp = self.oobs[i].copy()\n",
    "                tmp[j] = pandas.Series(col.to_list(), index=tmp.index)\n",
    "                yp = self.trees[i].predict(tmp)\n",
    "            e += 1 - np.mean(yp == self.oobs[i]['label'])\n",
    "        return e/n"
   ]
  },
  {
   "cell_type": "markdown",
   "metadata": {},
   "source": [
    "### Задание 3 (2 балла)\n",
    "Оптимизируйте по `AUC` на кроссвалидации (размер валидационной выборки - 20%) параметры своей реализации `Random Forest`: \n",
    "\n",
    "максимальную глубину деревьев из [2, 3, 5, 7, 10], количество деревьев из [5, 10, 20, 30, 50, 100]. \n",
    "\n",
    "Постройте `ROC` кривую (и выведите `AUC` и `accuracy`) для лучшего варианта.\n",
    "\n",
    "Подсказка: можно построить сразу 100 деревьев глубины 10, а потом убирать деревья и\n",
    "глубину."
   ]
  },
  {
   "cell_type": "code",
   "execution_count": 108,
   "metadata": {},
   "outputs": [],
   "source": [
    "def read_cancer_dataset(path_to_csv):\n",
    "    # Возвращает пару из X и y. X - массив векторов. y - соответствующие векторам метки\n",
    "    df = pandas.read_csv(path_to_csv)\n",
    "    return df.drop(['label'], axis=1), df['label'].apply(lambda t: 1 if t == 'M' else 0)\n",
    "\n",
    "def read_spam_dataset(path_to_csv):\n",
    "    # Возвращает пару из X и y. X - массив векторов. y - соответствующие векторам метки\n",
    "    df = pandas.read_csv(path_to_csv)\n",
    "    return df.drop(['label'], axis=1), df['label']\n",
    "\n",
    "def train_test_split(X, y, ratio):\n",
    "    rows = random.sample(X.index.to_list(), round(ratio*len(X.index)))\n",
    "    X_test = X.loc[rows]\n",
    "    y_test = y.loc[rows]\n",
    "    X_train = X.loc[~X.index.isin(rows)]\n",
    "    y_train = y.loc[~y.index.isin(rows)]\n",
    "    # Возвращает X_train, y_train, X_test, y_test\n",
    "    # X_train и X_test - массив векторов - две части массива X, разделенного в состветсви с коэффициентом ratio\n",
    "    # y_train и y_test - соответствующие X_train и X_test метки классов\n",
    "    return X_train, y_train, X_test, y_test\n",
    "\n",
    "def oversampling(X, y):\n",
    "    over = y.value_counts().idxmax()\n",
    "    \n",
    "    y_min = y[y != over]\n",
    "    y_max = y[y == over]\n",
    "    X_min = X.filter(y_min.index,axis = 0)\n",
    "    X_max = X.filter(y_max.index,axis = 0)\n",
    "    \n",
    "    rows = random.choices(X_min.index.to_list(),k=len(y_max.index))\n",
    "    X_over = X_min.loc[rows]\n",
    "    y_over = y_min.loc[rows]\n",
    "    \n",
    "    X_over = pandas.concat([X_over, X_max])\n",
    "    y_over = pandas.concat([y_over, y_max])\n",
    "    \n",
    "    # Возвращает данные, сбалансированные методом oversampling\n",
    "    return X_over, y_over\n",
    "\n",
    "CANCER_DATA_PATH = 'hw2_data/cancer.csv'\n",
    "SPAM_DATA_PATH = 'hw2_data/spam.csv'\n",
    "\n",
    "X_cancer, y_cancer = read_cancer_dataset(CANCER_DATA_PATH)\n",
    "X_spam, y_spam = read_spam_dataset(SPAM_DATA_PATH)\n",
    "\n",
    "X_cancer_train_imb, y_cancer_train_imb, X_cancer_test, y_cancer_test = train_test_split(X_cancer, y_cancer, 0.85)\n",
    "X_cancer_train, y_cancer_train = oversampling(X_cancer_train_imb, y_cancer_train_imb)\n",
    "\n",
    "X_spam_train_imb, y_spam_train_imb, X_spam_test, y_spam_test = train_test_split(X_spam, y_spam, 0.9)\n",
    "X_spam_train, y_spam_train = oversampling(X_spam_train_imb, y_spam_train_imb)"
   ]
  },
  {
   "cell_type": "markdown",
   "metadata": {},
   "source": [
    "#### spam"
   ]
  },
  {
   "cell_type": "code",
   "execution_count": 162,
   "metadata": {
    "scrolled": true
   },
   "outputs": [
    {
     "name": "stdout",
     "output_type": "stream",
     "text": [
      "CPU times: user 7.5 s, sys: 7.78 ms, total: 7.51 s\n",
      "Wall time: 7.49 s\n",
      "AUC: 0.9465049937350217\n"
     ]
    }
   ],
   "source": [
    "forest = RandomForestClassifier(min_samples_leaf=10, max_depth=10, n_estimators=5)\n",
    "%time forest.fit(X_spam_train, y_spam_train)\n",
    "p_pred = forest.predict_proba(X_spam_test)\n",
    "y_pred = p_pred.apply(lambda p: p.idxmax(), axis=1)\n",
    "ppred = p_pred.apply(lambda p: p.to_dict(), axis=1)\n",
    "print('AUC:', roc_auc_score(y_spam_test, p_pred[1]))"
   ]
  },
  {
   "cell_type": "code",
   "execution_count": 150,
   "metadata": {},
   "outputs": [
    {
     "name": "stdout",
     "output_type": "stream",
     "text": [
      "accuracy_score: 0.9328664573774451\n"
     ]
    },
    {
     "data": {
      "image/png": "[encoded data removed]",
      "text/plain": [
       "<Figure size 504x504 with 1 Axes>"
      ]
     },
     "metadata": {
      "needs_background": "light"
     },
     "output_type": "display_data"
    }
   ],
   "source": [
    "print('accuracy_score:', accuracy_score(y_spam_test, y_pred))\n",
    "plot_roc_curve(y_spam_test, ppred)"
   ]
  },
  {
   "cell_type": "markdown",
   "metadata": {},
   "source": [
    "#### cancer"
   ]
  },
  {
   "cell_type": "code",
   "execution_count": 148,
   "metadata": {
    "scrolled": true
   },
   "outputs": [
    {
     "name": "stdout",
     "output_type": "stream",
     "text": [
      "CPU times: user 16.3 s, sys: 4.13 ms, total: 16.3 s\n",
      "Wall time: 16.3 s\n",
      "AUC: 0.9883595311402797\n",
      "accuracy_score: 0.9545454545454546\n"
     ]
    },
    {
     "data": {
      "image/png": "[encoded data removed]",
      "text/plain": [
       "<Figure size 504x504 with 1 Axes>"
      ]
     },
     "metadata": {
      "needs_background": "light"
     },
     "output_type": "display_data"
    }
   ],
   "source": [
    "forest = RandomForestClassifier(min_samples_leaf=10, max_depth=3, n_estimators=100)\n",
    "%time forest.fit(X_cancer_train, y_cancer_train)\n",
    "p_pred = forest.predict_proba(X_cancer_test)\n",
    "y_pred = p_pred.apply(lambda p: p.idxmax(), axis=1)\n",
    "ppred = p_pred.apply(lambda p: p.to_dict(), axis=1)\n",
    "print('AUC:', roc_auc_score(y_cancer_test, p_pred[1]))\n",
    "print('accuracy_score:', accuracy_score(y_cancer_test, y_pred))\n",
    "plot_roc_curve(y_cancer_test, ppred)"
   ]
  },
  {
   "cell_type": "markdown",
   "metadata": {},
   "source": [
    "лучший результат для датасета cancer получен при max_depth=3, n_estimators=100;\n",
    "\n",
    "лучший результат для датасета spam получен при max_depth=10, n_estimators=100;"
   ]
  },
  {
   "cell_type": "markdown",
   "metadata": {},
   "source": [
    "### Задание 4 (3 балла)\n",
    "Часто хочется понимать, насколько большую роль играет тот или иной признак для предсказания класса объекта. Есть различные способы посчитать его важность. Один из простых способов сделать это для Random Forest выглядит так:\n",
    "1. Посчитать out-of-bag ошибку предсказания `err_oob` (https://en.wikipedia.org/wiki/Out-of-bag_error)\n",
    "2. Перемешать значения признака `j` у объектов выборки (у каждого из объектов изменится значение признака `j` на какой-то другой)\n",
    "3. Посчитать out-of-bag ошибку (`err_oob_j`) еще раз.\n",
    "4. Оценкой важности признака `j` для одного дерева будет разность `err_oob_j - err_oob`, важность для всего леса считается как среднее значение важности по деревьям.\n",
    "\n",
    "Реализуйте функцию `feature_importance`, которая принимает на вход Random Forest и возвращает массив, в котором содержится важность для каждого признака."
   ]
  },
  {
   "cell_type": "code",
   "execution_count": 299,
   "metadata": {},
   "outputs": [],
   "source": [
    "def feature_importance(rfc):\n",
    "    err_oob = rfc.oob()\n",
    "    result = []\n",
    "    for j in rfc.xy.columns.to_list()[:-1]:\n",
    "        result.append((j, rfc.oob(j) - err_oob))\n",
    "    return result\n",
    "\n",
    "def most_important_features(importance, names, k=20):\n",
    "    # Выводит названия k самых важных признаков\n",
    "    idicies = np.argsort(importance)[::-1][:k]\n",
    "    return np.array(names)[idicies]"
   ]
  },
  {
   "cell_type": "markdown",
   "metadata": {},
   "source": [
    "Протестируйте решение на простом синтетическом наборе данных. В результате должна получиться точность `1.0`, наибольшее значение важности должно быть у признака с индексом `4`, признаки с индексами `2` и `3`  должны быть одинаково важны, а остальные признаки - не важны совсем."
   ]
  },
  {
   "cell_type": "code",
   "execution_count": 304,
   "metadata": {},
   "outputs": [
    {
     "name": "stdout",
     "output_type": "stream",
     "text": [
      "Accuracy: 1.0\n",
      "Importance:\n",
      "0 0.0\n",
      "1 0.0\n",
      "5 0.0\n",
      "3 0.21218918918918928\n",
      "2 0.21505405405405412\n",
      "4 0.4027567567567567\n"
     ]
    }
   ],
   "source": [
    "def synthetic_dataset(size):\n",
    "    X = [(np.random.randint(0, 2), np.random.randint(0, 2), i % 6 == 3, \n",
    "          i % 6 == 0, i % 3 == 2, np.random.randint(0, 2)) for i in range(size)]\n",
    "    y = [i % 3 for i in range(size)]\n",
    "    return np.array(X), np.array(y)\n",
    "\n",
    "X_, y_ = synthetic_dataset(1000)\n",
    "X = pandas.DataFrame(X_)\n",
    "y = pandas.Series(y_)\n",
    "rfc = RandomForestClassifier(n_estimators=100)\n",
    "rfc.fit(X, y)\n",
    "print(\"Accuracy:\", np.mean(rfc.predict(X) == y))\n",
    "print(\"Importance:\")\n",
    "importance = feature_importance(rfc)\n",
    "importance.sort(key = lambda i: i[1])\n",
    "for (k, v) in importance:\n",
    "    print(k, v)"
   ]
  },
  {
   "cell_type": "markdown",
   "metadata": {},
   "source": [
    "Проверьте, какие признаки важны для датасетов cancer и spam?"
   ]
  },
  {
   "cell_type": "code",
   "execution_count": 302,
   "metadata": {
    "scrolled": true
   },
   "outputs": [
    {
     "name": "stdout",
     "output_type": "stream",
     "text": [
      "Importance:\n",
      "10 -0.0011692307692307558\n",
      "9 -0.0008330895158481233\n",
      "18 -0.0004924242424242109\n",
      "17 -0.00045875935658545863\n",
      "19 -0.0004347826086956441\n",
      "2 -0.0003571428571428614\n",
      "11 -0.0003333333333333244\n",
      "30 -0.0002486772486772343\n",
      "5 0.0\n",
      "12 0.0\n",
      "13 0.00037037037037036813\n",
      "15 0.00037037037037036813\n",
      "1 0.0010591133004926034\n",
      "29 0.0012257878997009586\n",
      "22 0.001467772967772965\n",
      "20 0.0016484905898699054\n",
      "25 0.00204349684132292\n",
      "16 0.0022471047471047667\n",
      "7 0.002847823463115823\n",
      "6 0.004110218517115086\n",
      "8 0.005763558391744292\n",
      "14 0.007212788660614755\n",
      "26 0.007903900952176815\n",
      "3 0.009598209198209195\n",
      "27 0.009679889908525585\n",
      "4 0.010036862032963959\n",
      "28 0.015556000601652784\n",
      "23 0.019128855435751976\n",
      "21 0.019435878092699685\n",
      "24 0.019729755895543932\n"
     ]
    }
   ],
   "source": [
    "rfc = RandomForestClassifier(min_samples_leaf=10, max_depth=3, n_estimators=100)\n",
    "rfc.fit(X_cancer_train, y_cancer_train)\n",
    "print(\"Importance:\")\n",
    "importance = feature_importance(rfc)\n",
    "importance.sort(key = lambda i: i[1])\n",
    "for (k, v) in importance:\n",
    "    print(k, v)"
   ]
  },
  {
   "cell_type": "code",
   "execution_count": 303,
   "metadata": {},
   "outputs": [
    {
     "name": "stdout",
     "output_type": "stream",
     "text": [
      "Importance:\n",
      "word_freq_all -0.0004472834169569062\n",
      "char_freq_: -3.106411873904369e-05\n",
      "word_freq_3d 0.0\n",
      "word_freq_parts 0.0\n",
      "word_freq_cs 0.0\n",
      "word_freq_table 0.0\n",
      "char_freq_( 4.096776723053197e-05\n",
      "word_freq_project 7.189207623509164e-05\n",
      "word_freq_original 7.517292605002668e-05\n",
      "word_freq_pm 7.87048942042512e-05\n",
      "word_freq_415 0.00019985896003160697\n",
      "word_freq_font 0.00020493813469488198\n",
      "word_freq_technology 0.0002726773499709123\n",
      "word_freq_857 0.00028351881346563856\n",
      "word_freq_lab 0.00034256713844565967\n",
      "word_freq_will 0.000405643329540184\n",
      "word_freq_direct 0.0004154186100745194\n",
      "word_freq_make 0.0005969088848077619\n",
      "word_freq_conference 0.0007409112972326104\n",
      "word_freq_telnet 0.000753628118479871\n",
      "word_freq_addresses 0.00078732455960287\n",
      "word_freq_people 0.0008231490506633021\n",
      "char_freq_[ 0.0008267547201737113\n",
      "char_freq_# 0.000861428382924051\n",
      "word_freq_you 0.0010284584143587239\n",
      "word_freq_internet 0.0010605661194573457\n",
      "word_freq_re 0.0012474019290470428\n",
      "word_freq_receive 0.0012813601198597702\n",
      "word_freq_data 0.0013237992225116346\n",
      "word_freq_650 0.001422493250730572\n",
      "word_freq_labs 0.0014542399194187317\n",
      "word_freq_over 0.0014594039574198359\n",
      "word_freq_report 0.0014840528695640176\n",
      "word_freq_mail 0.0015927464920398315\n",
      "word_freq_order 0.0016129287092542244\n",
      "word_freq_address 0.0017690995287962252\n",
      "word_freq_credit 0.0018919564552108414\n",
      "word_freq_meeting 0.0024377560269996656\n",
      "word_freq_email 0.002611813453787609\n",
      "word_freq_hpl 0.002726586230517969\n",
      "capital_run_length_total 0.003912321341881103\n",
      "word_freq_85 0.003929532086470899\n",
      "word_freq_business 0.004384167576117093\n",
      "capital_run_length_longest 0.006484075311977033\n",
      "word_freq_money 0.006913913265843508\n",
      "word_freq_edu 0.007427261210718017\n",
      "word_freq_your 0.007506793459503003\n",
      "word_freq_1999 0.008654503434410765\n",
      "capital_run_length_average 0.011374577454528217\n",
      "word_freq_free 0.011981026273972989\n",
      "word_freq_000 0.01244893063139993\n",
      "word_freq_george 0.012481915946266492\n",
      "word_freq_our 0.01741198495965504\n",
      "word_freq_remove 0.025059083725314207\n",
      "word_freq_hp 0.025772405007622096\n",
      "char_freq_! 0.03088966565955778\n",
      "char_freq_$ 0.038701959781779344\n"
     ]
    }
   ],
   "source": [
    "rfc = RandomForestClassifier(min_samples_leaf=10, max_depth=10, n_estimators=100)\n",
    "rfc.fit(X_spam_train, y_spam_train)\n",
    "print(\"Importance:\")\n",
    "importance = feature_importance(rfc)\n",
    "importance.sort(key = lambda i: i[1])\n",
    "for (k, v) in importance:\n",
    "    print(k, v)"
   ]
  },
  {
   "cell_type": "markdown",
   "metadata": {},
   "source": [
    "#### ответ\n",
    "\n",
    "для датасета cancer самые важные признаки 24, 21, 23\n",
    "\n",
    "для датасета spam самые важные признаки char_freq_$, char_freq_!, word_freq_hp, word_freq_remove"
   ]
  },
  {
   "cell_type": "markdown",
   "metadata": {},
   "source": [
    "### Задание 5 (2 балла)\n",
    "В качестве альтернативы попробуем библиотечные реализации ансамблей моделей. \n",
    "\n",
    "1. [CatBoost](https://catboost.ai/docs/)\n",
    "2. [XGBoost](https://xgboost.readthedocs.io/en/latest/)\n",
    "3. [LightGBM](https://lightgbm.readthedocs.io/en/latest/)\n"
   ]
  },
  {
   "cell_type": "markdown",
   "metadata": {},
   "source": [
    "Установите необходимые библиотеки. \n",
    "Возможно, потребуется установка дополнительных пакетов"
   ]
  },
  {
   "cell_type": "code",
   "execution_count": 305,
   "metadata": {},
   "outputs": [
    {
     "name": "stdout",
     "output_type": "stream",
     "text": [
      "Collecting lightgbm\n",
      "  Downloading lightgbm-3.2.0-py3-none-manylinux1_x86_64.whl (2.0 MB)\n",
      "\u001b[K     |████████████████████████████████| 2.0 MB 177 kB/s eta 0:00:01\n",
      "\u001b[?25hRequirement already satisfied: numpy in /home/boris/anaconda3/lib/python3.8/site-packages (from lightgbm) (1.19.2)\n",
      "Requirement already satisfied: scipy in /home/boris/anaconda3/lib/python3.8/site-packages (from lightgbm) (1.5.2)\n",
      "Requirement already satisfied: scikit-learn!=0.22.0 in /home/boris/anaconda3/lib/python3.8/site-packages (from lightgbm) (0.24.1)\n",
      "Requirement already satisfied: wheel in /home/boris/anaconda3/lib/python3.8/site-packages (from lightgbm) (0.35.1)\n",
      "Requirement already satisfied: threadpoolctl>=2.0.0 in /home/boris/anaconda3/lib/python3.8/site-packages (from scikit-learn!=0.22.0->lightgbm) (2.1.0)\n",
      "Requirement already satisfied: joblib>=0.11 in /home/boris/anaconda3/lib/python3.8/site-packages (from scikit-learn!=0.22.0->lightgbm) (0.17.0)\n",
      "Installing collected packages: lightgbm\n",
      "Successfully installed lightgbm-3.2.0\n",
      "Collecting catboost\n",
      "  Downloading catboost-0.25-cp38-none-manylinux1_x86_64.whl (67.3 MB)\n",
      "\u001b[K     |████████████████████████████████| 67.3 MB 62 kB/s  eta 0:00:01     |█████████████████▏              | 36.1 MB 947 kB/s eta 0:00:33     |█████████████████▉              | 37.5 MB 2.3 MB/s eta 0:00:14     |███████████████████             | 39.8 MB 2.6 MB/s eta 0:00:11     |████████████████████▍           | 42.9 MB 3.3 MB/s eta 0:00:08     |███████████████████████████▉    | 58.5 MB 2.8 MB/s eta 0:00:04\n",
      "\u001b[?25hCollecting plotly\n",
      "  Downloading plotly-4.14.3-py2.py3-none-any.whl (13.2 MB)\n",
      "\u001b[K     |████████████████████████████████| 13.2 MB 148 kB/s eta 0:00:01\n",
      "\u001b[?25hRequirement already satisfied: six in /home/boris/anaconda3/lib/python3.8/site-packages (from catboost) (1.15.0)\n",
      "Requirement already satisfied: pandas>=0.24.0 in /home/boris/anaconda3/lib/python3.8/site-packages (from catboost) (1.1.3)\n",
      "Collecting graphviz\n",
      "  Downloading graphviz-0.16-py2.py3-none-any.whl (19 kB)\n",
      "Requirement already satisfied: numpy>=1.16.0 in /home/boris/anaconda3/lib/python3.8/site-packages (from catboost) (1.19.2)\n",
      "Requirement already satisfied: scipy in /home/boris/anaconda3/lib/python3.8/site-packages (from catboost) (1.5.2)\n",
      "Requirement already satisfied: matplotlib in /home/boris/anaconda3/lib/python3.8/site-packages (from catboost) (3.3.2)\n",
      "Collecting retrying>=1.3.3\n",
      "  Downloading retrying-1.3.3.tar.gz (10 kB)\n",
      "Requirement already satisfied: pytz>=2017.2 in /home/boris/anaconda3/lib/python3.8/site-packages (from pandas>=0.24.0->catboost) (2020.1)\n",
      "Requirement already satisfied: python-dateutil>=2.7.3 in /home/boris/anaconda3/lib/python3.8/site-packages (from pandas>=0.24.0->catboost) (2.8.1)\n",
      "Requirement already satisfied: pyparsing!=2.0.4,!=2.1.2,!=2.1.6,>=2.0.3 in /home/boris/anaconda3/lib/python3.8/site-packages (from matplotlib->catboost) (2.4.7)\n",
      "Requirement already satisfied: cycler>=0.10 in /home/boris/anaconda3/lib/python3.8/site-packages (from matplotlib->catboost) (0.10.0)\n",
      "Requirement already satisfied: pillow>=6.2.0 in /home/boris/anaconda3/lib/python3.8/site-packages (from matplotlib->catboost) (8.0.1)\n",
      "Requirement already satisfied: kiwisolver>=1.0.1 in /home/boris/anaconda3/lib/python3.8/site-packages (from matplotlib->catboost) (1.3.0)\n",
      "Requirement already satisfied: certifi>=2020.06.20 in /home/boris/anaconda3/lib/python3.8/site-packages (from matplotlib->catboost) (2020.6.20)\n",
      "Building wheels for collected packages: retrying\n",
      "  Building wheel for retrying (setup.py) ... \u001b[?25ldone\n",
      "\u001b[?25h  Created wheel for retrying: filename=retrying-1.3.3-py3-none-any.whl size=11429 sha256=1c7d7d89f4ccf8b2caf0b0fcb193fbf56a62925bb6f91408f7555990ef7bb369\n",
      "  Stored in directory: /home/boris/.cache/pip/wheels/c4/a7/48/0a434133f6d56e878ca511c0e6c38326907c0792f67b476e56\n",
      "Successfully built retrying\n",
      "Installing collected packages: retrying, plotly, graphviz, catboost\n",
      "Successfully installed catboost-0.25 graphviz-0.16 plotly-4.14.3 retrying-1.3.3\n",
      "Collecting xgboost\n",
      "  Downloading xgboost-1.3.3-py3-none-manylinux2010_x86_64.whl (157.5 MB)\n",
      "\u001b[K     |████████████████████████████████| 157.5 MB 22 kB/s  eta 0:00:01    |███████████████▋                | 76.9 MB 3.2 MB/s eta 0:00:26     |███████████████▊                | 77.4 MB 3.2 MB/s eta 0:00:26     |████████████████████████████▊   | 141.4 MB 2.8 MB/s eta 0:00:06\n",
      "\u001b[?25hRequirement already satisfied: numpy in /home/boris/anaconda3/lib/python3.8/site-packages (from xgboost) (1.19.2)\n",
      "Requirement already satisfied: scipy in /home/boris/anaconda3/lib/python3.8/site-packages (from xgboost) (1.5.2)\n",
      "Installing collected packages: xgboost\n",
      "Successfully installed xgboost-1.3.3\n"
     ]
    }
   ],
   "source": [
    "!pip install lightgbm\n",
    "!pip install catboost\n",
    "!pip install xgboost"
   ]
  },
  {
   "cell_type": "markdown",
   "metadata": {},
   "source": [
    "Также, как и реализованный нами RandomForest, примените модели для наших датасетов.\n",
    "\n",
    "Для стандартного набора параметров у каждой модели нарисуйте `ROC` кривую и выведите `AUC` и `accuracy`.\n",
    "\n",
    "Посчитайте время обучения каждой модели (можно использовать [timeit magic](https://ipython.readthedocs.io/en/stable/interactive/magics.html#magic-timeit)). \n",
    "\n",
    "Сравните метрики качества и скорость обучения моделей. Какие выводы можно сделать?"
   ]
  },
  {
   "cell_type": "code",
   "execution_count": 317,
   "metadata": {},
   "outputs": [
    {
     "name": "stdout",
     "output_type": "stream",
     "text": [
      "CPU times: user 6.61 s, sys: 476 ms, total: 7.09 s\n",
      "Wall time: 2.4 s\n",
      "accuracy: 0.9504132231404959\n",
      "AUC: 0.9876123084679235\n"
     ]
    },
    {
     "data": {
      "image/png": "[encoded data removed]",
      "text/plain": [
       "<Figure size 432x288 with 1 Axes>"
      ]
     },
     "metadata": {
      "needs_background": "light"
     },
     "output_type": "display_data"
    }
   ],
   "source": [
    "from catboost import CatBoostClassifier\n",
    "\n",
    "model = CatBoostClassifier(verbose=False)\n",
    "# train the model\n",
    "%time model.fit(X_cancer_train, y_cancer_train)\n",
    "# make the prediction using the resulting model\n",
    "preds_class = model.predict(X_cancer_test)\n",
    "preds_proba = model.predict_proba(X_cancer_test)\n",
    "print(\"accuracy:\", accuracy_score(y_cancer_test, preds_class))\n",
    "print(\"AUC:\", roc_auc_score(y_cancer_test, preds_proba[:, 1]))\n",
    "metrics.plot_roc_curve(model, X_cancer_test, y_cancer_test)  \n",
    "plt.show()"
   ]
  },
  {
   "cell_type": "code",
   "execution_count": 318,
   "metadata": {},
   "outputs": [
    {
     "name": "stdout",
     "output_type": "stream",
     "text": [
      "CPU times: user 9.97 s, sys: 553 ms, total: 10.5 s\n",
      "Wall time: 3.81 s\n",
      "accuracy: 0.9306930693069307\n",
      "AUC: 0.9761749571183534\n"
     ]
    },
    {
     "data": {
      "image/png": "[encoded data removed]",
      "text/plain": [
       "<Figure size 432x288 with 1 Axes>"
      ]
     },
     "metadata": {
      "needs_background": "light"
     },
     "output_type": "display_data"
    }
   ],
   "source": [
    "model = CatBoostClassifier(verbose=False)\n",
    "# train the model\n",
    "%time model.fit(X_spam_train, y_spam_train)\n",
    "# make the prediction using the resulting model\n",
    "preds_class = model.predict(X_spam_test)\n",
    "preds_proba = model.predict_proba(X_spam_test)\n",
    "print(\"accuracy:\", accuracy_score(y_spam_test, preds_class))\n",
    "print(\"AUC:\", roc_auc_score(y_spam_test, preds_proba[:, 1]))\n",
    "metrics.plot_roc_curve(model, X_spam_test, y_spam_test)  \n",
    "plt.show()"
   ]
  },
  {
   "cell_type": "code",
   "execution_count": 322,
   "metadata": {},
   "outputs": [
    {
     "name": "stdout",
     "output_type": "stream",
     "text": [
      "[13:33:36] WARNING: ../src/learner.cc:1061: Starting in XGBoost 1.3.0, the default evaluation metric used with the objective 'binary:logistic' was changed from 'error' to 'logloss'. Explicitly set eval_metric if you'd like to restore the old behavior.\n",
      "CPU times: user 248 ms, sys: 458 µs, total: 248 ms\n",
      "Wall time: 88.1 ms\n",
      "accuracy: 0.9421487603305785\n",
      "AUC: 0.9819226129386557\n"
     ]
    },
    {
     "data": {
      "image/png": "[encoded data removed]",
      "text/plain": [
       "<Figure size 432x288 with 1 Axes>"
      ]
     },
     "metadata": {
      "needs_background": "light"
     },
     "output_type": "display_data"
    }
   ],
   "source": [
    "from xgboost import XGBClassifier\n",
    "\n",
    "model = XGBClassifier(use_label_encoder=False)\n",
    "%time model.fit(X_cancer_train, y_cancer_train)\n",
    "y_pred = model.predict(X_cancer_test)\n",
    "preds_proba = model.predict_proba(X_cancer_test)\n",
    "print(\"accuracy:\", accuracy_score(y_cancer_test, y_pred))\n",
    "print(\"AUC:\", roc_auc_score(y_cancer_test, preds_proba[:, 1]))\n",
    "metrics.plot_roc_curve(model, X_cancer_test, y_cancer_test)  \n",
    "plt.show()"
   ]
  },
  {
   "cell_type": "code",
   "execution_count": 331,
   "metadata": {},
   "outputs": [
    {
     "name": "stdout",
     "output_type": "stream",
     "text": [
      "[14:04:13] WARNING: ../src/learner.cc:1061: Starting in XGBoost 1.3.0, the default evaluation metric used with the objective 'binary:logistic' was changed from 'error' to 'logloss'. Explicitly set eval_metric if you'd like to restore the old behavior.\n",
      "CPU times: user 637 ms, sys: 186 µs, total: 638 ms\n",
      "Wall time: 188 ms\n",
      "accuracy: 0.9154793528133301\n",
      "AUC: 0.9648616230551197\n"
     ]
    },
    {
     "data": {
      "image/png": "[encoded data removed]",
      "text/plain": [
       "<Figure size 432x288 with 1 Axes>"
      ]
     },
     "metadata": {
      "needs_background": "light"
     },
     "output_type": "display_data"
    }
   ],
   "source": [
    "model = XGBClassifier(use_label_encoder=False)\n",
    "x_train = X_spam_train.rename(columns=dict(zip(X_spam_train.columns.to_list(), range(X_spam_train.columns.size))))\n",
    "x_test = X_spam_test.rename(columns=dict(zip(X_spam_test.columns.to_list(), range(X_spam_test.columns.size))))\n",
    "%time model.fit(x_train, y_spam_train)\n",
    "y_pred = model.predict(x_test)\n",
    "preds_proba = model.predict_proba(x_test)\n",
    "print(\"accuracy:\", accuracy_score(y_spam_test, y_pred))\n",
    "print(\"AUC:\", roc_auc_score(y_spam_test, preds_proba[:, 1]))\n",
    "metrics.plot_roc_curve(model, x_test, y_spam_test)  \n",
    "plt.show()"
   ]
  },
  {
   "cell_type": "code",
   "execution_count": 333,
   "metadata": {
    "scrolled": true
   },
   "outputs": [
    {
     "name": "stdout",
     "output_type": "stream",
     "text": [
      "CPU times: user 180 ms, sys: 3.2 ms, total: 184 ms\n",
      "Wall time: 71.4 ms\n",
      "accuracy: 0.9359504132231405\n",
      "AUC: 0.9819676263526531\n"
     ]
    },
    {
     "data": {
      "image/png": "[encoded data removed]",
      "text/plain": [
       "<Figure size 432x288 with 1 Axes>"
      ]
     },
     "metadata": {
      "needs_background": "light"
     },
     "output_type": "display_data"
    }
   ],
   "source": [
    "import lightgbm as lgb\n",
    "\n",
    "model = lgb.LGBMClassifier()\n",
    "%time model.fit(X_cancer_train, y_cancer_train)\n",
    "y_pred = model.predict(X_cancer_test)\n",
    "preds_proba = model.predict_proba(X_cancer_test)\n",
    "print(\"accuracy:\", accuracy_score(y_cancer_test, y_pred))\n",
    "print(\"AUC:\", roc_auc_score(y_cancer_test, preds_proba[:, 1]))\n",
    "metrics.plot_roc_curve(model, X_cancer_test, y_cancer_test)  \n",
    "plt.show()"
   ]
  },
  {
   "cell_type": "code",
   "execution_count": 337,
   "metadata": {},
   "outputs": [
    {
     "name": "stdout",
     "output_type": "stream",
     "text": [
      "CPU times: user 466 ms, sys: 0 ns, total: 466 ms\n",
      "Wall time: 138 ms\n",
      "accuracy: 0.9191016662641874\n",
      "AUC: 0.9693303164118098\n"
     ]
    },
    {
     "data": {
      "image/png": "[encoded data removed]",
      "text/plain": [
       "<Figure size 432x288 with 1 Axes>"
      ]
     },
     "metadata": {
      "needs_background": "light"
     },
     "output_type": "display_data"
    }
   ],
   "source": [
    "model = lgb.LGBMClassifier()\n",
    "x_train = X_spam_train.rename(columns=dict(zip(X_spam_train.columns.to_list(), range(X_spam_train.columns.size))))\n",
    "x_test = X_spam_test.rename(columns=dict(zip(X_spam_test.columns.to_list(), range(X_spam_test.columns.size))))\n",
    "%time model.fit(x_train, y_spam_train)\n",
    "y_pred = model.predict(x_test)\n",
    "preds_proba = model.predict_proba(x_test)\n",
    "print(\"accuracy:\", accuracy_score(y_spam_test, y_pred))\n",
    "print(\"AUC:\", roc_auc_score(y_spam_test, preds_proba[:, 1]))\n",
    "metrics.plot_roc_curve(model, x_test, y_spam_test)  \n",
    "plt.show()"
   ]
  },
  {
   "cell_type": "markdown",
   "metadata": {},
   "source": [
    "cancer:\n",
    "\n",
    "лучшее accuracy = 0.955 дает RandomForestClassifier\n",
    "\n",
    "лучшее AUC = 0.988 дают RandomForestClassifier и catboost.CatBoostClassifier\n",
    "\n",
    "spam:\n",
    "\n",
    "лучшее accuracy = 0.933 дает RandomForestClassifier\n",
    "\n",
    "лучшее AUC = 0.976 дает catboost.CatBoostClassifier0.971 RandomForestClassifier\n",
    "\n",
    "все библиотечные модели обучаются быстрее RandomForestClassifier на обоих датасетах\n",
    "\n",
    "быстрее всех обучается lightgbm.LGBMClassifier при сопоставимых метриках"
   ]
  }
 ],
 "metadata": {
  "kernelspec": {
   "display_name": "Python 3",
   "language": "python",
   "name": "python3"
  },
  "language_info": {
   "codemirror_mode": {
    "name": "ipython",
    "version": 3
   },
   "file_extension": ".py",
   "mimetype": "text/x-python",
   "name": "python",
   "nbconvert_exporter": "python",
   "pygments_lexer": "ipython3",
   "version": "3.8.5"
  }
 },
 "nbformat": 4,
 "nbformat_minor": 2
}
