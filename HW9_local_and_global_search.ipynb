{
 "cells": [
  {
   "cell_type": "markdown",
   "metadata": {},
   "source": [
    "## Локальный и глобальный поиск"
   ]
  },
  {
   "cell_type": "markdown",
   "metadata": {},
   "source": [
    "Решите задачу коммивояжера на основе файла данных `hw9_data/tsp.csv`: найти минимальный НЕЦИКЛИЧЕСКИЙ путь (начинается и заканчивается в разных точках), соединяющий N точек. Файл содержит координаты каждого из городов на плоскости (1й столбец - номер города, 2й и 3й - координаты). Используйте L1 расстояние для расчетов и визуализации.\n",
    "\n"
   ]
  },
  {
   "cell_type": "code",
   "execution_count": 88,
   "metadata": {},
   "outputs": [],
   "source": [
    "import numpy as np\n",
    "import pandas as pd\n",
    "import matplotlib.pyplot as plt\n",
    "import matplotlib\n",
    "\n",
    "df = pd.read_csv('hw9_data/tsp.csv', header=None)"
   ]
  },
  {
   "cell_type": "markdown",
   "metadata": {},
   "source": [
    "### Задание 1 (1 балл) \n",
    "\n",
    "Реализуйте Монте-Карло поиск."
   ]
  },
  {
   "cell_type": "code",
   "execution_count": 89,
   "metadata": {},
   "outputs": [],
   "source": [
    "def monte_carlo(n_tries, df):\n",
    "    a = df.copy().to_numpy()\n",
    "    min_distance = 0\n",
    "    route = []\n",
    "    for i in range(n_tries):\n",
    "        np.random.shuffle(a)\n",
    "        diff = a[1:]-a[:-1]\n",
    "        current_distance = np.linalg.norm(diff[:,1], ord=1)+np.linalg.norm(diff[:,2], ord=1)\n",
    "        if i == 0 or current_distance < min_distance:\n",
    "            min_distance = current_distance\n",
    "            route = np.copy(a[:,0])\n",
    "    return route, min_distance"
   ]
  },
  {
   "cell_type": "code",
   "execution_count": 93,
   "metadata": {
    "scrolled": true
   },
   "outputs": [
    {
     "data": {
      "image/png": "[encoded data removed]",
      "text/plain": [
       "<Figure size 432x288 with 1 Axes>"
      ]
     },
     "metadata": {
      "needs_background": "light"
     },
     "output_type": "display_data"
    },
    {
     "name": "stdout",
     "output_type": "stream",
     "text": [
      "best route: [27  1  4 12 33 13 17 41  3 40 49 36 46 43 51 48 39 11 52 32 50 38  9 10\n",
      " 19 37 35  8  5 22  6 18 42 30 47 28 26 14 20 15 45  7 23 24 21 44 25 34\n",
      " 29 16 31  2]\n",
      "distance of the best route: 29265.0\n"
     ]
    }
   ],
   "source": [
    "route = []\n",
    "dist = 1000000000\n",
    "xs = [10, 100, 500, 1000, 2000, 5000, 10000]\n",
    "ys = []\n",
    "for x in xs:\n",
    "    r, d = monte_carlo(x, df)\n",
    "    ys.append(d)\n",
    "    if d < dist:\n",
    "        dist = d\n",
    "        route = r\n",
    "plt.plot(xs, ys)\n",
    "plt.xlabel('количество перестановок')\n",
    "plt.ylabel('длина (норма L1) самого короткого маршрута')\n",
    "plt.show()\n",
    "print('best route:', route)\n",
    "print('distance of the best route:', dist)"
   ]
  },
  {
   "cell_type": "markdown",
   "metadata": {},
   "source": [
    "### Задание 2 (1 балл) \n",
    "\n",
    "Реализуйте поиск случайным блужданием."
   ]
  },
  {
   "cell_type": "code",
   "execution_count": 2,
   "metadata": {},
   "outputs": [],
   "source": [
    "#YOUR_CODE"
   ]
  },
  {
   "cell_type": "markdown",
   "metadata": {},
   "source": [
    "### Задание 3 (2 балла) \n",
    "\n",
    "Реализуйте Hill Climb."
   ]
  },
  {
   "cell_type": "code",
   "execution_count": 3,
   "metadata": {},
   "outputs": [],
   "source": [
    "#YOUR_CODE"
   ]
  },
  {
   "cell_type": "markdown",
   "metadata": {},
   "source": [
    "### Задание 4 (3 балла) \n",
    "\n",
    "\n",
    "Реализуйте отжиг (simulated annealing). Температурный режим отжига выберите самостоятельно."
   ]
  },
  {
   "cell_type": "code",
   "execution_count": 4,
   "metadata": {},
   "outputs": [],
   "source": [
    "#YOUR_CODE"
   ]
  },
  {
   "cell_type": "markdown",
   "metadata": {},
   "source": [
    "### Задание 5 (3 балла) \n",
    "\n",
    "Реализуйте генетический алгоритм."
   ]
  },
  {
   "cell_type": "code",
   "execution_count": 5,
   "metadata": {},
   "outputs": [],
   "source": [
    "#YOUR_CODE"
   ]
  },
  {
   "cell_type": "code",
   "execution_count": null,
   "metadata": {},
   "outputs": [],
   "source": []
  }
 ],
 "metadata": {
  "kernelspec": {
   "display_name": "Python 3",
   "language": "python",
   "name": "python3"
  },
  "language_info": {
   "codemirror_mode": {
    "name": "ipython",
    "version": 3
   },
   "file_extension": ".py",
   "mimetype": "text/x-python",
   "name": "python",
   "nbconvert_exporter": "python",
   "pygments_lexer": "ipython3",
   "version": "3.8.5"
  }
 },
 "nbformat": 4,
 "nbformat_minor": 4
}
