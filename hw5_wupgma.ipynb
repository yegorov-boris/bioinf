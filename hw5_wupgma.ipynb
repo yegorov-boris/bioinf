{
 "cells": [
  {
   "cell_type": "code",
   "execution_count": null,
   "metadata": {},
   "outputs": [],
   "source": [
    "matrix1 = {\n",
    "    ('A', 'B'): 16,\n",
    "    ('A', 'C'): 16,\n",
    "    ('A', 'D'): 10,\n",
    "    ('B', 'C'): 8,\n",
    "    ('B', 'D'): 8,\n",
    "    ('C', 'D'): 4,\n",
    "}\n",
    "\n",
    "matrix2 = {\n",
    "    ('A', 'B'): 5,\n",
    "    ('A', 'C'): 4,\n",
    "    ('A', 'D'): 7,\n",
    "    ('A', 'E'): 6,\n",
    "    ('A', 'F'): 8,\n",
    "    ('B', 'C'): 7,\n",
    "    ('B', 'D'): 10,\n",
    "    ('B', 'E'): 9,\n",
    "    ('B', 'F'): 11,\n",
    "    ('C', 'D'): 7,\n",
    "    ('C', 'E'): 6,\n",
    "    ('C', 'F'): 8,\n",
    "    ('D', 'E'): 5,\n",
    "    ('D', 'F'): 9,\n",
    "    ('E', 'F'): 8,\n",
    "}"
   ]
  },
  {
   "cell_type": "markdown",
   "metadata": {},
   "source": [
    "WPGMA"
   ]
  },
  {
   "cell_type": "code",
   "execution_count": 66,
   "metadata": {},
   "outputs": [
    {
     "name": "stdout",
     "output_type": "stream",
     "text": [
      "2\n",
      "(F:4.5,((D:2.5,E:2.5):1.5,(B:3.0,(A:2.0,C:2.0):1.0):1.0):0.5)\n"
     ]
    }
   ],
   "source": [
    "def wpgma(matrix, nodes, newick):\n",
    "    if len(matrix) == 0:\n",
    "        return newick\n",
    "            \n",
    "    minK = min(matrix, key=matrix.get)\n",
    "    minV = matrix[minK]\n",
    "    minX, minY = minK\n",
    "    newK = minX+minY\n",
    "    wn = minV/2\n",
    "    wx = wn\n",
    "    wy = wn\n",
    "    min_x_str = minX\n",
    "    min_y_str = minY\n",
    "    if minX in nodes:\n",
    "        w, s = nodes[minX]\n",
    "        wx-=w\n",
    "        min_x_str = s\n",
    "    if minY in nodes:\n",
    "        w, s = nodes[minY]\n",
    "        wy-=w\n",
    "        min_y_str = s\n",
    "    newick = f'({min_x_str}:{round(wx, 2)},{min_y_str}:{round(wy, 2)})'\n",
    "    nodes[newK] = (wn, newick)\n",
    "    \n",
    "    alph = set({})\n",
    "    newMatrix = {}    \n",
    "    for k, v in matrix.items():\n",
    "        kx, ky = k\n",
    "        if kx != minX and kx != minY:\n",
    "            alph.add(kx)\n",
    "            if ky != minX and ky != minY:\n",
    "                alph.add(ky)\n",
    "                newMatrix[k] = v\n",
    "   \n",
    "    for a in alph:\n",
    "        newMatrix[(a, newK)] = (matrix.get((a, minY), 0)+matrix.get((a, minX), 0)+matrix.get((minY, a), 0)+matrix.get((minX, a), 0))/2\n",
    "\n",
    "#     print('======')\n",
    "#     for i in nodes.items():\n",
    "#         print(i)\n",
    "#     print('------')\n",
    "#     for i in newMatrix.items():\n",
    "#         print(i)\n",
    "        \n",
    "    return wpgma(newMatrix, nodes, newick)\n",
    "\n",
    "test_number = input()\n",
    "if test_number == '1':\n",
    "    print(wpgma(matrix1, {}, ''))\n",
    "if test_number == '2':\n",
    "    print(wpgma(matrix2, {}, ''))"
   ]
  },
  {
   "cell_type": "markdown",
   "metadata": {},
   "source": [
    "UPGMA"
   ]
  },
  {
   "cell_type": "code",
   "execution_count": 83,
   "metadata": {},
   "outputs": [
    {
     "name": "stdout",
     "output_type": "stream",
     "text": [
      "2\n",
      "(F:4.4,((D:2.5,E:2.5):1.25,(B:3.0,(A:2.0,C:2.0):1.0):0.75):0.65)\n"
     ]
    }
   ],
   "source": [
    "def upgma(matrix, nodes, newick):\n",
    "    if len(matrix) == 0:\n",
    "        return newick\n",
    "            \n",
    "    minK = min(matrix, key=matrix.get)\n",
    "    minV = matrix[minK]\n",
    "    minX, minY = minK\n",
    "    newK = minX+minY\n",
    "    wn = minV/2\n",
    "    wx = wn\n",
    "    wy = wn\n",
    "    w_x, min_x_str, size_x = nodes.get(minX, (0, minX, 1))\n",
    "    w_y, min_y_str, size_y = nodes.get(minY, (0, minY, 1))\n",
    "    wx-=w_x\n",
    "    wy-=w_y\n",
    "    newick = f'({min_x_str}:{round(wx, 2)},{min_y_str}:{round(wy, 2)})'\n",
    "    nodes[newK] = (wn, newick, size_x+size_y)\n",
    "    \n",
    "    alph = set({})\n",
    "    newMatrix = {}    \n",
    "    for k, v in matrix.items():\n",
    "        kx, ky = k\n",
    "        if kx != minX and kx != minY:\n",
    "            alph.add(kx)\n",
    "            if ky != minX and ky != minY:\n",
    "                alph.add(ky)\n",
    "                newMatrix[k] = v\n",
    "   \n",
    "    for a in alph:\n",
    "        newMatrix[(a, newK)] = (matrix.get((a, minY), 0)*size_y + matrix.get((a, minX), 0)*size_x + matrix.get((minY, a), 0)*size_y + matrix.get((minX, a), 0)*size_x)/(size_x+size_y)\n",
    "\n",
    "#     print('======')\n",
    "#     for i in nodes.items():\n",
    "#         print(i)\n",
    "#     print('------')\n",
    "#     for i in newMatrix.items():\n",
    "#         print(i)\n",
    "        \n",
    "    return upgma(newMatrix, nodes, newick)\n",
    "\n",
    "test_number = input()\n",
    "if test_number == '1':\n",
    "    print(upgma(matrix1, {}, ''))\n",
    "if test_number == '2':\n",
    "    print(upgma(matrix2, {}, ''))"
   ]
  },
  {
   "cell_type": "code",
   "execution_count": null,
   "metadata": {},
   "outputs": [],
   "source": []
  }
 ],
 "metadata": {
  "kernelspec": {
   "display_name": "Python 3",
   "language": "python",
   "name": "python3"
  },
  "language_info": {
   "codemirror_mode": {
    "name": "ipython",
    "version": 3
   },
   "file_extension": ".py",
   "mimetype": "text/x-python",
   "name": "python",
   "nbconvert_exporter": "python",
   "pygments_lexer": "ipython3",
   "version": "3.8.3"
  }
 },
 "nbformat": 4,
 "nbformat_minor": 4
}
